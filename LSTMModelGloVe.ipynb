{
 "cells": [
  {
   "cell_type": "code",
   "execution_count": 1,
   "metadata": {},
   "outputs": [],
   "source": [
    "from torchtext import data\n",
    "import torch\n",
    "import torch.nn as nn\n",
    "import torch.optim as optim\n",
    "import random\n",
    "import datetime\n",
    "from math import floor\n",
    "\n",
    "seed = 1\n",
    "torch.manual_seed(seed)\n",
    "device = torch.device('cuda')\n",
    "iterator_device = 0\n",
    "##uncomment for cpu\n",
    "#device = torch.device('cpu')\n",
    "#iterator_device = -1"
   ]
  },
  {
   "cell_type": "code",
   "execution_count": 2,
   "metadata": {},
   "outputs": [],
   "source": [
    "blurb_field = data.Field(sequential=True, use_vocab=True, lower=True, tokenize=\"spacy\", include_lengths=True)\n",
    "state_field = data.LabelField(sequential=False, use_vocab=False, tensor_type=torch.FloatTensor,\n",
    "                              preprocessing=lambda x:1 if x=='successful' else 0)\n",
    "dataset = data.TabularDataset(path='df_text_eng.csv',format='csv',skip_header=True,fields=[('Unnamed: 0', None),('blurb', blurb_field),('state', state_field)])"
   ]
  },
  {
   "cell_type": "code",
   "execution_count": 3,
   "metadata": {},
   "outputs": [
    {
     "name": "stdout",
     "output_type": "stream",
     "text": [
      "Training Set Size:  150859\n",
      "Test Set Size:  32327\n",
      "Validation Set Size:  32327\n"
     ]
    }
   ],
   "source": [
    "train, test, validation = dataset.split(random_state=random.seed(seed), split_ratio=[70,15,15])\n",
    "print(\"Training Set Size: \", len(train))\n",
    "print(\"Test Set Size: \", len(test))\n",
    "print(\"Validation Set Size: \", len(validation))"
   ]
  },
  {
   "cell_type": "code",
   "execution_count": 4,
   "metadata": {},
   "outputs": [
    {
     "name": "stdout",
     "output_type": "stream",
     "text": [
      "Vocabulary size used:  28760\n"
     ]
    }
   ],
   "source": [
    "##randomly\n",
    "#words that appear less than 3 times (2 or less) will be considered unknown words with tag \"<unk>\", \n",
    "#they will have the same word embedding\n",
    "#vocabulary of the training set will only be used to emulate real world situtaions when the test set is unknown\n",
    "blurb_field.build_vocab(train,min_freq=3,vectors=\"glove.6B.100d\")\n",
    "print(\"Vocabulary size used: \",len(blurb_field.vocab))"
   ]
  },
  {
   "cell_type": "code",
   "execution_count": 5,
   "metadata": {},
   "outputs": [],
   "source": [
    "batch_size = 64\n",
    "\n",
    "train_iter = data.BucketIterator(dataset=train, batch_size=batch_size, sort_key=lambda x:len(x.blurb),device=iterator_device,\n",
    "                                repeat=False, train=True, sort_within_batch=True)\n",
    "test_iter = data.BucketIterator(dataset=test, batch_size=batch_size, sort_key=lambda x:len(x.blurb),device=iterator_device,\n",
    "                                train=False, sort_within_batch=True)\n",
    "validation_iter = data.BucketIterator(dataset=validation, batch_size=batch_size, sort_key=lambda x:len(x.blurb),device=iterator_device,\n",
    "                                      train=False, sort_within_batch=True)"
   ]
  },
  {
   "cell_type": "code",
   "execution_count": 6,
   "metadata": {},
   "outputs": [],
   "source": [
    "class LSTMNet(nn.Module):\n",
    "    def __init__(self, vocab_size, embed_size, hidden_size, output_size, padding_idx=None, init_embedding=None):\n",
    "        super(LSTMNet, self).__init__()\n",
    "        if (init_embedding is not None):\n",
    "            self.embedding = nn.Embedding(vocab_size, embed_size, padding_idx=padding_idx, _weight=init_embedding)    # word embedding\n",
    "        else:\n",
    "            self.embedding = nn.Embedding(vocab_size, embed_size, padding_idx=padding_idx)    # word embedding\n",
    "        self.lstm = nn.LSTM(embed_size, hidden_size)  #LSTM layer, default activation function is tanh\n",
    "        self.out = nn.Linear(hidden_size, output_size)   # output layer (Fully Connected)\n",
    "        \n",
    "\n",
    "    def forward(self, x, x_lengths):\n",
    "        #x -> [sentence length(max, smaller sentences are padded), minibatch size]\n",
    "        embeds = self.embedding(x)\n",
    "        \n",
    "        #embeds -> [sentence length, minibatch size, embedding size]\n",
    "        embeds = nn.utils.rnn.pack_padded_sequence(embeds,x_lengths)\n",
    "        all_hiddens, (last_hidden, last_cell) = self.lstm(embeds)      # activation function for hidden layer\n",
    "        #the first dimension of the hidden layer is 1 (we use one hidden layer uniderectional LSTMs), squeeze removes it to be \n",
    "        #able to enter the fully connected layer with dimensions [batch size, hidden size]\n",
    "        score = self.out(last_hidden.squeeze(0))           \n",
    "        return score"
   ]
  },
  {
   "cell_type": "code",
   "execution_count": 7,
   "metadata": {},
   "outputs": [],
   "source": [
    "def calc_accuracy(predictions, y):\n",
    "    predictions = torch.round(torch.sigmoid(predictions))\n",
    "    correct = (sum(predictions == y)).float()\n",
    "    accuracy = correct/len(predictions)\n",
    "    return accuracy"
   ]
  },
  {
   "cell_type": "code",
   "execution_count": 8,
   "metadata": {},
   "outputs": [],
   "source": [
    "padding_idx = blurb_field.vocab.stoi['<pad>']\n",
    "embed_size = 100\n",
    "hidden_size = 100"
   ]
  },
  {
   "cell_type": "code",
   "execution_count": 9,
   "metadata": {},
   "outputs": [],
   "source": [
    "lstmmodel = LSTMNet(len(blurb_field.vocab),embed_size,hidden_size,1, padding_idx=padding_idx, init_embedding=blurb_field.vocab.vectors)\n",
    "optimizer = optim.SGD(lstmmodel.parameters(), lr=1e-3)\n",
    "loss_fn = nn.BCEWithLogitsLoss()\n",
    "lstmmodel = lstmmodel.to(device)\n",
    "loss_fn = loss_fn.to(device)"
   ]
  },
  {
   "cell_type": "code",
   "execution_count": 10,
   "metadata": {},
   "outputs": [],
   "source": [
    "def train(model, iterator, optimizer, loss_fn):\n",
    "    epoch_loss = 0\n",
    "    epoch_accuracy = 0\n",
    "    \n",
    "    model.train()\n",
    "    \n",
    "    for minibatch in iterator:\n",
    "        optimizer.zero_grad()\n",
    "        predictions = model(minibatch.blurb[0],minibatch.blurb[1]).squeeze(1)\n",
    "        loss = loss_fn(predictions, minibatch.state)\n",
    "        accuracy = calc_accuracy(predictions, minibatch.state)    \n",
    "        loss.backward()\n",
    "        optimizer.step()\n",
    "        \n",
    "        epoch_loss += loss.item()\n",
    "        epoch_accuracy += accuracy.item()\n",
    "        \n",
    "    return epoch_loss / len(iterator), epoch_accuracy / len(iterator)"
   ]
  },
  {
   "cell_type": "code",
   "execution_count": 11,
   "metadata": {},
   "outputs": [],
   "source": [
    "def evaluate(model, iterator, loss_fn):\n",
    "    epoch_loss = 0\n",
    "    epoch_accuracy = 0\n",
    "    \n",
    "    model.eval()\n",
    "    \n",
    "    with torch.no_grad():\n",
    "        for minibatch in iterator:\n",
    "            predictions = model(minibatch.blurb[0],minibatch.blurb[1]).squeeze(1)\n",
    "            loss = loss_fn(predictions, minibatch.state)\n",
    "            accuracy = calc_accuracy(predictions, minibatch.state)    \n",
    "\n",
    "            epoch_loss += loss.item()\n",
    "            epoch_accuracy += accuracy.item()\n",
    "        \n",
    "    return epoch_loss / len(iterator), epoch_accuracy / len(iterator)"
   ]
  },
  {
   "cell_type": "code",
   "execution_count": 12,
   "metadata": {
    "scrolled": true
   },
   "outputs": [
    {
     "name": "stderr",
     "output_type": "stream",
     "text": [
      "/home/ubuntu/anaconda3/envs/pytorch_p36/lib/python3.6/site-packages/torchtext/data/field.py:321: UserWarning: volatile was removed and now has no effect. Use `with torch.no_grad():` instead.\n",
      "  return Variable(arr, volatile=not train), lengths\n",
      "/home/ubuntu/anaconda3/envs/pytorch_p36/lib/python3.6/site-packages/torchtext/data/field.py:322: UserWarning: volatile was removed and now has no effect. Use `with torch.no_grad():` instead.\n",
      "  return Variable(arr, volatile=not train)\n"
     ]
    },
    {
     "name": "stdout",
     "output_type": "stream",
     "text": [
      "Epoch: 01, Train Loss: 0.6939, Train Accuracy: 49.41%, Validation Loss: 0.6935, Validation Accuracy: 49.41%\n",
      "Total Time Passed: 0 hours, 0 minutes, 24.32 seconds\n",
      "Epoch: 02, Train Loss: 0.6932, Train Accuracy: 50.26%, Validation Loss: 0.6929, Validation Accuracy: 51.03%\n",
      "Total Time Passed: 0 hours, 0 minutes, 48.02 seconds\n",
      "Epoch: 03, Train Loss: 0.6927, Train Accuracy: 51.59%, Validation Loss: 0.6924, Validation Accuracy: 52.53%\n",
      "Total Time Passed: 0 hours, 1 minutes, 11.83 seconds\n",
      "Epoch: 04, Train Loss: 0.6922, Train Accuracy: 52.66%, Validation Loss: 0.6919, Validation Accuracy: 53.81%\n",
      "Total Time Passed: 0 hours, 1 minutes, 35.46 seconds\n",
      "Epoch: 05, Train Loss: 0.6918, Train Accuracy: 53.41%, Validation Loss: 0.6914, Validation Accuracy: 54.22%\n",
      "Total Time Passed: 0 hours, 1 minutes, 59.06 seconds\n",
      "Epoch: 06, Train Loss: 0.6914, Train Accuracy: 53.96%, Validation Loss: 0.6910, Validation Accuracy: 54.56%\n",
      "Total Time Passed: 0 hours, 2 minutes, 22.79 seconds\n",
      "Epoch: 07, Train Loss: 0.6910, Train Accuracy: 54.31%, Validation Loss: 0.6906, Validation Accuracy: 54.99%\n",
      "Total Time Passed: 0 hours, 2 minutes, 46.34 seconds\n",
      "Epoch: 08, Train Loss: 0.6906, Train Accuracy: 54.55%, Validation Loss: 0.6901, Validation Accuracy: 55.32%\n",
      "Total Time Passed: 0 hours, 3 minutes, 10.04 seconds\n",
      "Epoch: 09, Train Loss: 0.6903, Train Accuracy: 54.75%, Validation Loss: 0.6897, Validation Accuracy: 55.21%\n",
      "Total Time Passed: 0 hours, 3 minutes, 33.88 seconds\n",
      "Epoch: 10, Train Loss: 0.6899, Train Accuracy: 55.01%, Validation Loss: 0.6893, Validation Accuracy: 55.54%\n",
      "Total Time Passed: 0 hours, 3 minutes, 57.65 seconds\n",
      "Epoch: 11, Train Loss: 0.6895, Train Accuracy: 55.17%, Validation Loss: 0.6889, Validation Accuracy: 55.80%\n",
      "Total Time Passed: 0 hours, 4 minutes, 21.50 seconds\n",
      "Epoch: 12, Train Loss: 0.6891, Train Accuracy: 55.28%, Validation Loss: 0.6885, Validation Accuracy: 55.86%\n",
      "Total Time Passed: 0 hours, 4 minutes, 45.13 seconds\n",
      "Epoch: 13, Train Loss: 0.6887, Train Accuracy: 55.40%, Validation Loss: 0.6880, Validation Accuracy: 55.98%\n",
      "Total Time Passed: 0 hours, 5 minutes, 8.70 seconds\n",
      "Epoch: 14, Train Loss: 0.6883, Train Accuracy: 55.43%, Validation Loss: 0.6876, Validation Accuracy: 56.07%\n",
      "Total Time Passed: 0 hours, 5 minutes, 32.50 seconds\n",
      "Epoch: 15, Train Loss: 0.6879, Train Accuracy: 55.62%, Validation Loss: 0.6871, Validation Accuracy: 56.05%\n",
      "Total Time Passed: 0 hours, 5 minutes, 56.32 seconds\n",
      "Epoch: 16, Train Loss: 0.6875, Train Accuracy: 55.70%, Validation Loss: 0.6867, Validation Accuracy: 56.15%\n",
      "Total Time Passed: 0 hours, 6 minutes, 20.19 seconds\n",
      "Epoch: 17, Train Loss: 0.6871, Train Accuracy: 55.78%, Validation Loss: 0.6862, Validation Accuracy: 56.28%\n",
      "Total Time Passed: 0 hours, 6 minutes, 43.89 seconds\n",
      "Epoch: 18, Train Loss: 0.6866, Train Accuracy: 55.83%, Validation Loss: 0.6857, Validation Accuracy: 56.31%\n",
      "Total Time Passed: 0 hours, 7 minutes, 7.56 seconds\n",
      "Epoch: 19, Train Loss: 0.6862, Train Accuracy: 55.94%, Validation Loss: 0.6852, Validation Accuracy: 56.34%\n",
      "Total Time Passed: 0 hours, 7 minutes, 31.17 seconds\n",
      "Epoch: 20, Train Loss: 0.6857, Train Accuracy: 56.04%, Validation Loss: 0.6847, Validation Accuracy: 56.38%\n",
      "Total Time Passed: 0 hours, 7 minutes, 54.75 seconds\n",
      "Epoch: 21, Train Loss: 0.6852, Train Accuracy: 56.07%, Validation Loss: 0.6842, Validation Accuracy: 56.48%\n",
      "Total Time Passed: 0 hours, 8 minutes, 18.45 seconds\n",
      "Epoch: 22, Train Loss: 0.6847, Train Accuracy: 56.07%, Validation Loss: 0.6837, Validation Accuracy: 56.56%\n",
      "Total Time Passed: 0 hours, 8 minutes, 42.18 seconds\n",
      "Epoch: 23, Train Loss: 0.6842, Train Accuracy: 56.18%, Validation Loss: 0.6832, Validation Accuracy: 56.65%\n",
      "Total Time Passed: 0 hours, 9 minutes, 5.80 seconds\n",
      "Epoch: 24, Train Loss: 0.6837, Train Accuracy: 56.23%, Validation Loss: 0.6826, Validation Accuracy: 56.72%\n",
      "Total Time Passed: 0 hours, 9 minutes, 29.50 seconds\n",
      "Epoch: 25, Train Loss: 0.6832, Train Accuracy: 56.28%, Validation Loss: 0.6821, Validation Accuracy: 56.87%\n",
      "Total Time Passed: 0 hours, 9 minutes, 53.18 seconds\n",
      "Epoch: 26, Train Loss: 0.6827, Train Accuracy: 56.34%, Validation Loss: 0.6815, Validation Accuracy: 56.68%\n",
      "Total Time Passed: 0 hours, 10 minutes, 17.03 seconds\n",
      "Epoch: 27, Train Loss: 0.6821, Train Accuracy: 56.44%, Validation Loss: 0.6809, Validation Accuracy: 56.86%\n",
      "Total Time Passed: 0 hours, 10 minutes, 40.64 seconds\n",
      "Epoch: 28, Train Loss: 0.6816, Train Accuracy: 56.55%, Validation Loss: 0.6803, Validation Accuracy: 56.82%\n",
      "Total Time Passed: 0 hours, 11 minutes, 4.21 seconds\n",
      "Epoch: 29, Train Loss: 0.6811, Train Accuracy: 56.60%, Validation Loss: 0.6797, Validation Accuracy: 56.85%\n",
      "Total Time Passed: 0 hours, 11 minutes, 28.00 seconds\n",
      "Epoch: 30, Train Loss: 0.6805, Train Accuracy: 56.66%, Validation Loss: 0.6791, Validation Accuracy: 56.88%\n",
      "Total Time Passed: 0 hours, 11 minutes, 51.81 seconds\n",
      "Epoch: 31, Train Loss: 0.6800, Train Accuracy: 56.74%, Validation Loss: 0.6786, Validation Accuracy: 57.03%\n",
      "Total Time Passed: 0 hours, 12 minutes, 15.81 seconds\n",
      "Epoch: 32, Train Loss: 0.6794, Train Accuracy: 56.78%, Validation Loss: 0.6779, Validation Accuracy: 56.97%\n",
      "Total Time Passed: 0 hours, 12 minutes, 39.50 seconds\n",
      "Epoch: 33, Train Loss: 0.6788, Train Accuracy: 56.88%, Validation Loss: 0.6773, Validation Accuracy: 57.14%\n",
      "Total Time Passed: 0 hours, 13 minutes, 3.16 seconds\n",
      "Epoch: 34, Train Loss: 0.6783, Train Accuracy: 57.00%, Validation Loss: 0.6767, Validation Accuracy: 57.29%\n",
      "Total Time Passed: 0 hours, 13 minutes, 26.79 seconds\n",
      "Epoch: 35, Train Loss: 0.6777, Train Accuracy: 57.06%, Validation Loss: 0.6760, Validation Accuracy: 57.39%\n",
      "Total Time Passed: 0 hours, 13 minutes, 50.35 seconds\n",
      "Epoch: 36, Train Loss: 0.6771, Train Accuracy: 57.20%, Validation Loss: 0.6753, Validation Accuracy: 57.41%\n",
      "Total Time Passed: 0 hours, 14 minutes, 14.11 seconds\n",
      "Epoch: 37, Train Loss: 0.6764, Train Accuracy: 57.34%, Validation Loss: 0.6746, Validation Accuracy: 57.52%\n",
      "Total Time Passed: 0 hours, 14 minutes, 37.98 seconds\n",
      "Epoch: 38, Train Loss: 0.6757, Train Accuracy: 57.44%, Validation Loss: 0.6737, Validation Accuracy: 57.80%\n",
      "Total Time Passed: 0 hours, 15 minutes, 1.80 seconds\n",
      "Epoch: 39, Train Loss: 0.6749, Train Accuracy: 57.64%, Validation Loss: 0.6728, Validation Accuracy: 57.91%\n",
      "Total Time Passed: 0 hours, 15 minutes, 25.44 seconds\n",
      "Epoch: 40, Train Loss: 0.6740, Train Accuracy: 57.78%, Validation Loss: 0.6717, Validation Accuracy: 58.18%\n",
      "Total Time Passed: 0 hours, 15 minutes, 49.01 seconds\n",
      "Epoch: 41, Train Loss: 0.6728, Train Accuracy: 58.02%, Validation Loss: 0.6703, Validation Accuracy: 58.31%\n",
      "Total Time Passed: 0 hours, 16 minutes, 12.68 seconds\n",
      "Epoch: 42, Train Loss: 0.6713, Train Accuracy: 58.32%, Validation Loss: 0.6685, Validation Accuracy: 58.70%\n",
      "Total Time Passed: 0 hours, 16 minutes, 36.71 seconds\n",
      "Epoch: 43, Train Loss: 0.6694, Train Accuracy: 58.76%, Validation Loss: 0.6662, Validation Accuracy: 59.15%\n",
      "Total Time Passed: 0 hours, 17 minutes, 0.54 seconds\n",
      "Epoch: 44, Train Loss: 0.6668, Train Accuracy: 59.21%, Validation Loss: 0.6631, Validation Accuracy: 59.77%\n",
      "Total Time Passed: 0 hours, 17 minutes, 24.65 seconds\n",
      "Epoch: 45, Train Loss: 0.6636, Train Accuracy: 59.90%, Validation Loss: 0.6594, Validation Accuracy: 60.14%\n",
      "Total Time Passed: 0 hours, 17 minutes, 48.67 seconds\n",
      "Epoch: 46, Train Loss: 0.6600, Train Accuracy: 60.40%, Validation Loss: 0.6558, Validation Accuracy: 60.94%\n",
      "Total Time Passed: 0 hours, 18 minutes, 12.90 seconds\n",
      "Epoch: 47, Train Loss: 0.6569, Train Accuracy: 60.90%, Validation Loss: 0.6540, Validation Accuracy: 61.17%\n",
      "Total Time Passed: 0 hours, 18 minutes, 36.99 seconds\n",
      "Epoch: 48, Train Loss: 0.6543, Train Accuracy: 61.30%, Validation Loss: 0.6505, Validation Accuracy: 61.89%\n",
      "Total Time Passed: 0 hours, 19 minutes, 0.99 seconds\n",
      "Epoch: 49, Train Loss: 0.6523, Train Accuracy: 61.60%, Validation Loss: 0.6490, Validation Accuracy: 62.03%\n",
      "Total Time Passed: 0 hours, 19 minutes, 24.95 seconds\n",
      "Epoch: 50, Train Loss: 0.6506, Train Accuracy: 61.83%, Validation Loss: 0.6472, Validation Accuracy: 62.33%\n",
      "Total Time Passed: 0 hours, 19 minutes, 48.82 seconds\n",
      "Epoch: 51, Train Loss: 0.6492, Train Accuracy: 62.02%, Validation Loss: 0.6468, Validation Accuracy: 62.39%\n",
      "Total Time Passed: 0 hours, 20 minutes, 12.53 seconds\n"
     ]
    },
    {
     "name": "stdout",
     "output_type": "stream",
     "text": [
      "Epoch: 52, Train Loss: 0.6479, Train Accuracy: 62.16%, Validation Loss: 0.6448, Validation Accuracy: 62.56%\n",
      "Total Time Passed: 0 hours, 20 minutes, 36.33 seconds\n",
      "Epoch: 53, Train Loss: 0.6466, Train Accuracy: 62.27%, Validation Loss: 0.6444, Validation Accuracy: 62.55%\n",
      "Total Time Passed: 0 hours, 20 minutes, 59.94 seconds\n",
      "Epoch: 54, Train Loss: 0.6457, Train Accuracy: 62.45%, Validation Loss: 0.6429, Validation Accuracy: 62.93%\n",
      "Total Time Passed: 0 hours, 21 minutes, 23.65 seconds\n",
      "Epoch: 55, Train Loss: 0.6448, Train Accuracy: 62.52%, Validation Loss: 0.6424, Validation Accuracy: 62.99%\n",
      "Total Time Passed: 0 hours, 21 minutes, 47.20 seconds\n",
      "Epoch: 56, Train Loss: 0.6440, Train Accuracy: 62.65%, Validation Loss: 0.6414, Validation Accuracy: 63.21%\n",
      "Total Time Passed: 0 hours, 22 minutes, 10.91 seconds\n",
      "Epoch: 57, Train Loss: 0.6432, Train Accuracy: 62.71%, Validation Loss: 0.6425, Validation Accuracy: 62.81%\n",
      "Total Time Passed: 0 hours, 22 minutes, 34.57 seconds\n",
      "Epoch: 58, Train Loss: 0.6425, Train Accuracy: 62.78%, Validation Loss: 0.6407, Validation Accuracy: 63.11%\n",
      "Total Time Passed: 0 hours, 22 minutes, 58.17 seconds\n",
      "Epoch: 59, Train Loss: 0.6419, Train Accuracy: 63.03%, Validation Loss: 0.6402, Validation Accuracy: 63.25%\n",
      "Total Time Passed: 0 hours, 23 minutes, 21.86 seconds\n",
      "Epoch: 60, Train Loss: 0.6415, Train Accuracy: 63.00%, Validation Loss: 0.6399, Validation Accuracy: 63.30%\n",
      "Total Time Passed: 0 hours, 23 minutes, 45.46 seconds\n",
      "Epoch: 61, Train Loss: 0.6409, Train Accuracy: 63.03%, Validation Loss: 0.6415, Validation Accuracy: 62.91%\n",
      "Total Time Passed: 0 hours, 24 minutes, 9.08 seconds\n",
      "Epoch: 62, Train Loss: 0.6407, Train Accuracy: 62.98%, Validation Loss: 0.6395, Validation Accuracy: 63.28%\n",
      "Total Time Passed: 0 hours, 24 minutes, 32.84 seconds\n",
      "Epoch: 63, Train Loss: 0.6401, Train Accuracy: 63.12%, Validation Loss: 0.6388, Validation Accuracy: 63.46%\n",
      "Total Time Passed: 0 hours, 24 minutes, 56.35 seconds\n",
      "Epoch: 64, Train Loss: 0.6397, Train Accuracy: 63.14%, Validation Loss: 0.6382, Validation Accuracy: 63.63%\n",
      "Total Time Passed: 0 hours, 25 minutes, 20.01 seconds\n",
      "Epoch: 65, Train Loss: 0.6394, Train Accuracy: 63.27%, Validation Loss: 0.6387, Validation Accuracy: 63.46%\n",
      "Total Time Passed: 0 hours, 25 minutes, 43.58 seconds\n",
      "Epoch: 66, Train Loss: 0.6389, Train Accuracy: 63.27%, Validation Loss: 0.6376, Validation Accuracy: 63.59%\n",
      "Total Time Passed: 0 hours, 26 minutes, 7.21 seconds\n",
      "Epoch: 67, Train Loss: 0.6386, Train Accuracy: 63.31%, Validation Loss: 0.6392, Validation Accuracy: 63.33%\n",
      "Total Time Passed: 0 hours, 26 minutes, 30.97 seconds\n",
      "Epoch: 68, Train Loss: 0.6384, Train Accuracy: 63.32%, Validation Loss: 0.6421, Validation Accuracy: 63.05%\n",
      "Total Time Passed: 0 hours, 26 minutes, 54.42 seconds\n",
      "Epoch: 69, Train Loss: 0.6381, Train Accuracy: 63.36%, Validation Loss: 0.6373, Validation Accuracy: 63.60%\n",
      "Total Time Passed: 0 hours, 27 minutes, 17.86 seconds\n",
      "Epoch: 70, Train Loss: 0.6378, Train Accuracy: 63.41%, Validation Loss: 0.6383, Validation Accuracy: 63.49%\n",
      "Total Time Passed: 0 hours, 27 minutes, 41.37 seconds\n",
      "Epoch: 71, Train Loss: 0.6375, Train Accuracy: 63.46%, Validation Loss: 0.6369, Validation Accuracy: 63.60%\n",
      "Total Time Passed: 0 hours, 28 minutes, 4.90 seconds\n",
      "Epoch: 72, Train Loss: 0.6373, Train Accuracy: 63.49%, Validation Loss: 0.6361, Validation Accuracy: 63.63%\n",
      "Total Time Passed: 0 hours, 28 minutes, 28.59 seconds\n",
      "Epoch: 73, Train Loss: 0.6370, Train Accuracy: 63.57%, Validation Loss: 0.6359, Validation Accuracy: 63.75%\n",
      "Total Time Passed: 0 hours, 28 minutes, 52.13 seconds\n",
      "Epoch: 74, Train Loss: 0.6366, Train Accuracy: 63.57%, Validation Loss: 0.6425, Validation Accuracy: 62.86%\n",
      "Total Time Passed: 0 hours, 29 minutes, 15.60 seconds\n",
      "Epoch: 75, Train Loss: 0.6365, Train Accuracy: 63.51%, Validation Loss: 0.6365, Validation Accuracy: 63.67%\n",
      "Total Time Passed: 0 hours, 29 minutes, 39.08 seconds\n",
      "Epoch: 76, Train Loss: 0.6359, Train Accuracy: 63.65%, Validation Loss: 0.6364, Validation Accuracy: 63.69%\n",
      "Total Time Passed: 0 hours, 30 minutes, 2.51 seconds\n",
      "Epoch: 77, Train Loss: 0.6358, Train Accuracy: 63.70%, Validation Loss: 0.6353, Validation Accuracy: 63.83%\n",
      "Total Time Passed: 0 hours, 30 minutes, 26.07 seconds\n",
      "Epoch: 78, Train Loss: 0.6355, Train Accuracy: 63.67%, Validation Loss: 0.6347, Validation Accuracy: 63.79%\n",
      "Total Time Passed: 0 hours, 30 minutes, 49.52 seconds\n",
      "Epoch: 79, Train Loss: 0.6353, Train Accuracy: 63.69%, Validation Loss: 0.6347, Validation Accuracy: 63.87%\n",
      "Total Time Passed: 0 hours, 31 minutes, 12.86 seconds\n",
      "Epoch: 80, Train Loss: 0.6352, Train Accuracy: 63.70%, Validation Loss: 0.6342, Validation Accuracy: 64.00%\n",
      "Total Time Passed: 0 hours, 31 minutes, 36.09 seconds\n",
      "Epoch: 81, Train Loss: 0.6348, Train Accuracy: 63.74%, Validation Loss: 0.6348, Validation Accuracy: 63.87%\n",
      "Total Time Passed: 0 hours, 31 minutes, 59.19 seconds\n",
      "Epoch: 82, Train Loss: 0.6344, Train Accuracy: 63.77%, Validation Loss: 0.6339, Validation Accuracy: 63.94%\n",
      "Total Time Passed: 0 hours, 32 minutes, 22.36 seconds\n",
      "Epoch: 83, Train Loss: 0.6344, Train Accuracy: 63.72%, Validation Loss: 0.6339, Validation Accuracy: 63.92%\n",
      "Total Time Passed: 0 hours, 32 minutes, 45.32 seconds\n",
      "Epoch: 84, Train Loss: 0.6341, Train Accuracy: 63.88%, Validation Loss: 0.6333, Validation Accuracy: 64.22%\n",
      "Total Time Passed: 0 hours, 33 minutes, 8.25 seconds\n",
      "Epoch: 85, Train Loss: 0.6338, Train Accuracy: 63.83%, Validation Loss: 0.6332, Validation Accuracy: 63.98%\n",
      "Total Time Passed: 0 hours, 33 minutes, 31.23 seconds\n",
      "Epoch: 86, Train Loss: 0.6335, Train Accuracy: 63.90%, Validation Loss: 0.6333, Validation Accuracy: 64.24%\n",
      "Total Time Passed: 0 hours, 33 minutes, 53.97 seconds\n",
      "Epoch: 87, Train Loss: 0.6333, Train Accuracy: 63.95%, Validation Loss: 0.6333, Validation Accuracy: 64.10%\n",
      "Total Time Passed: 0 hours, 34 minutes, 16.81 seconds\n",
      "Epoch: 88, Train Loss: 0.6330, Train Accuracy: 63.96%, Validation Loss: 0.6324, Validation Accuracy: 64.15%\n",
      "Total Time Passed: 0 hours, 34 minutes, 39.38 seconds\n",
      "Epoch: 89, Train Loss: 0.6328, Train Accuracy: 64.00%, Validation Loss: 0.6347, Validation Accuracy: 63.86%\n",
      "Total Time Passed: 0 hours, 35 minutes, 1.88 seconds\n",
      "Epoch: 90, Train Loss: 0.6325, Train Accuracy: 64.05%, Validation Loss: 0.6339, Validation Accuracy: 64.01%\n",
      "Total Time Passed: 0 hours, 35 minutes, 24.39 seconds\n",
      "Epoch: 91, Train Loss: 0.6322, Train Accuracy: 64.17%, Validation Loss: 0.6317, Validation Accuracy: 64.29%\n",
      "Total Time Passed: 0 hours, 35 minutes, 46.89 seconds\n",
      "Epoch: 92, Train Loss: 0.6320, Train Accuracy: 64.10%, Validation Loss: 0.6322, Validation Accuracy: 64.25%\n",
      "Total Time Passed: 0 hours, 36 minutes, 9.57 seconds\n",
      "Epoch: 93, Train Loss: 0.6316, Train Accuracy: 64.18%, Validation Loss: 0.6313, Validation Accuracy: 64.31%\n",
      "Total Time Passed: 0 hours, 36 minutes, 32.35 seconds\n",
      "Epoch: 94, Train Loss: 0.6315, Train Accuracy: 64.20%, Validation Loss: 0.6310, Validation Accuracy: 64.30%\n",
      "Total Time Passed: 0 hours, 36 minutes, 55.06 seconds\n",
      "Epoch: 95, Train Loss: 0.6312, Train Accuracy: 64.14%, Validation Loss: 0.6308, Validation Accuracy: 64.46%\n",
      "Total Time Passed: 0 hours, 37 minutes, 17.74 seconds\n",
      "Epoch: 96, Train Loss: 0.6310, Train Accuracy: 64.20%, Validation Loss: 0.6330, Validation Accuracy: 64.11%\n",
      "Total Time Passed: 0 hours, 37 minutes, 40.29 seconds\n",
      "Epoch: 97, Train Loss: 0.6306, Train Accuracy: 64.22%, Validation Loss: 0.6303, Validation Accuracy: 64.47%\n",
      "Total Time Passed: 0 hours, 38 minutes, 2.80 seconds\n",
      "Epoch: 98, Train Loss: 0.6305, Train Accuracy: 64.25%, Validation Loss: 0.6374, Validation Accuracy: 63.43%\n",
      "Total Time Passed: 0 hours, 38 minutes, 25.46 seconds\n",
      "Epoch: 99, Train Loss: 0.6301, Train Accuracy: 64.34%, Validation Loss: 0.6319, Validation Accuracy: 64.37%\n",
      "Total Time Passed: 0 hours, 38 minutes, 48.07 seconds\n",
      "Epoch: 100, Train Loss: 0.6300, Train Accuracy: 64.33%, Validation Loss: 0.6309, Validation Accuracy: 64.39%\n",
      "Total Time Passed: 0 hours, 39 minutes, 10.70 seconds\n"
     ]
    }
   ],
   "source": [
    "no_epochs = 100\n",
    "#import ipdb; ipdb.set_trace() # debugging starts here\n",
    "train_accuracies = []\n",
    "validation_accuracies = []\n",
    "init_time = datetime.datetime.now()\n",
    "for epoch in range(no_epochs):\n",
    "    train_loss, train_accuracy = train(lstmmodel, train_iter, optimizer, loss_fn)\n",
    "    validation_loss, validation_accuracy = evaluate(lstmmodel, validation_iter, loss_fn)\n",
    "    train_accuracies.append(train_accuracy)\n",
    "    validation_accuracies.append(validation_accuracy)\n",
    "    current_time = datetime.datetime.now()\n",
    "    total_time = (current_time-init_time).total_seconds()\n",
    "    print(f'Epoch: {epoch+1:02}, Train Loss: {train_loss:.4f}, Train Accuracy: {train_accuracy*100:.2f}%, ' +  \n",
    "          f'Validation Loss: {validation_loss:.4f}, Validation Accuracy: {validation_accuracy*100:.2f}%')\n",
    "    print(f'Total Time Passed: {floor(total_time/3600)} hours, {floor(total_time/60)%60} minutes, {total_time%60:.2f} seconds')"
   ]
  },
  {
   "cell_type": "code",
   "execution_count": 13,
   "metadata": {},
   "outputs": [
    {
     "name": "stderr",
     "output_type": "stream",
     "text": [
      "/home/ubuntu/anaconda3/envs/pytorch_p36/lib/python3.6/site-packages/torchtext/data/field.py:321: UserWarning: volatile was removed and now has no effect. Use `with torch.no_grad():` instead.\n",
      "  return Variable(arr, volatile=not train), lengths\n",
      "/home/ubuntu/anaconda3/envs/pytorch_p36/lib/python3.6/site-packages/torchtext/data/field.py:322: UserWarning: volatile was removed and now has no effect. Use `with torch.no_grad():` instead.\n",
      "  return Variable(arr, volatile=not train)\n"
     ]
    },
    {
     "name": "stdout",
     "output_type": "stream",
     "text": [
      "Test Loss: 0.6314, Test Accuracy: 64.02%\n"
     ]
    }
   ],
   "source": [
    "test_loss, test_accuracy = evaluate(lstmmodel, test_iter, loss_fn)\n",
    "\n",
    "print(f'Test Loss: {test_loss:.4f}, Test Accuracy: {test_accuracy*100:.2f}%')"
   ]
  },
  {
   "cell_type": "code",
   "execution_count": 17,
   "metadata": {},
   "outputs": [
    {
     "data": {
      "image/png": "[encoded data removed]",
      "text/plain": [
       "<Figure size 432x288 with 1 Axes>"
      ]
     },
     "metadata": {},
     "output_type": "display_data"
    }
   ],
   "source": [
    "import matplotlib.pyplot as plt\n",
    "\n",
    "plt.plot(range(1,no_epochs+1),train_accuracies)\n",
    "plt.show()"
   ]
  },
  {
   "cell_type": "code",
   "execution_count": 15,
   "metadata": {},
   "outputs": [],
   "source": [
    "with open('LSTMModelGloveTraining.txt', 'w') as f:\n",
    "    for item in train_accuracies:\n",
    "        f.write(\"%s\\n\" % item)"
   ]
  },
  {
   "cell_type": "code",
   "execution_count": 16,
   "metadata": {},
   "outputs": [],
   "source": [
    "with open('LSTMModelGloveVal.txt', 'w') as f:\n",
    "    for item in validation_accuracies:\n",
    "        f.write(\"%s\\n\" % item)"
   ]
  },
  {
   "cell_type": "code",
   "execution_count": null,
   "metadata": {},
   "outputs": [],
   "source": []
  }
 ],
 "metadata": {
  "kernelspec": {
   "display_name": "Environment (conda_pytorch_p36)",
   "language": "python",
   "name": "conda_pytorch_p36"
  },
  "language_info": {
   "codemirror_mode": {
    "name": "ipython",
    "version": 3
   },
   "file_extension": ".py",
   "mimetype": "text/x-python",
   "name": "python",
   "nbconvert_exporter": "python",
   "pygments_lexer": "ipython3",
   "version": "3.6.6"
  }
 },
 "nbformat": 4,
 "nbformat_minor": 2
}
