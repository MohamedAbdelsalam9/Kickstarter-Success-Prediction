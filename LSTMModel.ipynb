{
 "cells": [
  {
   "cell_type": "code",
   "execution_count": 1,
   "metadata": {},
   "outputs": [],
   "source": [
    "from torchtext import data\n",
    "import torch\n",
    "import torch.nn as nn\n",
    "import torch.optim as optim\n",
    "import random\n",
    "import datetime\n",
    "from math import floor\n",
    "\n",
    "seed = 1\n",
    "torch.manual_seed(seed)\n",
    "device = torch.device('cpu')\n",
    "iterator_device = None"
   ]
  },
  {
   "cell_type": "code",
   "execution_count": 2,
   "metadata": {},
   "outputs": [],
   "source": [
    "blurb_field = data.Field(sequential=True, use_vocab=True, lower=True, tokenize=\"spacy\", include_lengths=True)\n",
    "state_field = data.LabelField(sequential=False, use_vocab=False, tensor_type=torch.FloatTensor,\n",
    "                              preprocessing=lambda x:1 if x=='successful' else 0)\n",
    "dataset = data.TabularDataset(path='df_text_eng.csv',format='csv',skip_header=True,fields=[('Unnamed: 0', None),('blurb', blurb_field),('state', state_field)])"
   ]
  },
  {
   "cell_type": "code",
   "execution_count": 3,
   "metadata": {},
   "outputs": [
    {
     "name": "stdout",
     "output_type": "stream",
     "text": [
      "Training Set Size:  150859\n",
      "Test Set Size:  32327\n",
      "Validation Set Size:  32327\n"
     ]
    }
   ],
   "source": [
    "train, test, validation = dataset.split(random_state=random.seed(seed), split_ratio=[70,15,15])\n",
    "print(\"Training Set Size: \", len(train))\n",
    "print(\"Test Set Size: \", len(test))\n",
    "print(\"Validation Set Size: \", len(validation))"
   ]
  },
  {
   "cell_type": "code",
   "execution_count": 4,
   "metadata": {},
   "outputs": [
    {
     "name": "stdout",
     "output_type": "stream",
     "text": [
      "Vocabulary size used:  28760\n"
     ]
    }
   ],
   "source": [
    "#words that appear less than 3 times (2 or less) will be considered unknown words with tag \"<unk>\", \n",
    "#they will have the same word embedding\n",
    "#vocabulary of the training set will only be used to emulate real world situtaions when the test set is unknown\n",
    "blurb_field.build_vocab(train,min_freq=3)\n",
    "print(\"Vocabulary size used: \",len(blurb_field.vocab))"
   ]
  },
  {
   "cell_type": "code",
   "execution_count": 5,
   "metadata": {},
   "outputs": [],
   "source": [
    "batch_size = 64\n",
    "\n",
    "train_iter = data.BucketIterator(dataset=train, batch_size=batch_size, sort_key=lambda x:len(x.blurb),device=iterator_device,\n",
    "                                repeat=False, train=True, sort_within_batch=True)\n",
    "test_iter = data.BucketIterator(dataset=test, batch_size=batch_size, sort_key=lambda x:len(x.blurb),device=iterator_device,\n",
    "                                train=False, sort_within_batch=True)\n",
    "validation_iter = data.BucketIterator(dataset=validation, batch_size=batch_size, sort_key=lambda x:len(x.blurb),device=iterator_device,\n",
    "                                      train=False, sort_within_batch=True)"
   ]
  },
  {
   "cell_type": "code",
   "execution_count": 16,
   "metadata": {},
   "outputs": [],
   "source": [
    "class LSTMNet(nn.Module):\n",
    "    def __init__(self, vocab_size, embed_size, hidden_size, output_size, padding_idx=None):\n",
    "        super(LSTMNet, self).__init__()\n",
    "        self.embedding = nn.Embedding(vocab_size, embed_size, padding_idx=padding_idx)    # word embedding\n",
    "        self.lstm = nn.LSTM(embed_size, hidden_size)  #LSTM layer, default activation function is tanh\n",
    "        self.out = nn.Linear(hidden_size, output_size)   # output layer (Fully Connected)\n",
    "\n",
    "    def forward(self, x, x_lengths):\n",
    "        #x -> [sentence length(max, smaller sentences are padded), minibatch size]\n",
    "        embeds = self.embedding(x)\n",
    "        \n",
    "        #embeds -> [sentence length, minibatch size, embedding size]\n",
    "        embeds = nn.utils.rnn.pack_padded_sequence(embeds,x_lengths)\n",
    "        all_hiddens, (last_hidden, last_cell) = self.lstm(embeds)      # activation function for hidden layer\n",
    "        #the first dimension of the hidden layer is 1 (we use one hidden layer uniderectional LSTMs), squeeze removes it to be \n",
    "        #able to enter the fully connected layer with dimensions [batch size, hidden size]\n",
    "        score = self.out(last_hidden.squeeze(0))           \n",
    "        return score"
   ]
  },
  {
   "cell_type": "code",
   "execution_count": 17,
   "metadata": {},
   "outputs": [],
   "source": [
    "def calc_accuracy(predictions, y):\n",
    "    predictions = torch.round(torch.sigmoid(predictions))\n",
    "    correct = (sum(predictions == y)).float()\n",
    "    accuracy = correct/len(predictions)\n",
    "    return accuracy"
   ]
  },
  {
   "cell_type": "code",
   "execution_count": 18,
   "metadata": {},
   "outputs": [],
   "source": [
    "padding_idx = blurb_field.vocab.stoi['<pad>']\n",
    "embed_size = 100\n",
    "hidden_size = 100"
   ]
  },
  {
   "cell_type": "code",
   "execution_count": 19,
   "metadata": {},
   "outputs": [],
   "source": [
    "lstmmodel = LSTMNet(len(blurb_field.vocab),embed_size,hidden_size,1, padding_idx=padding_idx)\n",
    "optimizer = optim.SGD(lstmmodel.parameters(), lr=1e-3)\n",
    "loss_fn = nn.BCEWithLogitsLoss()\n",
    "lstmmodel = lstmmodel.to(device)\n",
    "loss_fn = loss_fn.to(device)"
   ]
  },
  {
   "cell_type": "code",
   "execution_count": 20,
   "metadata": {},
   "outputs": [],
   "source": [
    "def train(model, iterator, optimizer, loss_fn):\n",
    "    epoch_loss = 0\n",
    "    epoch_accuracy = 0\n",
    "    \n",
    "    model.train()\n",
    "    \n",
    "    for minibatch in iterator:\n",
    "        optimizer.zero_grad()\n",
    "        predictions = model(minibatch.blurb[0],minibatch.blurb[1]).squeeze(1)\n",
    "        loss = loss_fn(predictions, minibatch.state)\n",
    "        accuracy = calc_accuracy(predictions, minibatch.state)    \n",
    "        loss.backward()\n",
    "        optimizer.step()\n",
    "        \n",
    "        epoch_loss += loss.item()\n",
    "        epoch_accuracy += accuracy.item()\n",
    "        \n",
    "    return epoch_loss / len(iterator), epoch_accuracy / len(iterator)"
   ]
  },
  {
   "cell_type": "code",
   "execution_count": 21,
   "metadata": {},
   "outputs": [],
   "source": [
    "def evaluate(model, iterator, loss_fn):\n",
    "    epoch_loss = 0\n",
    "    epoch_accuracy = 0\n",
    "    \n",
    "    model.eval()\n",
    "    \n",
    "    with torch.no_grad():\n",
    "        for minibatch in iterator:\n",
    "            predictions = model(minibatch.blurb[0],minibatch.blurb[1]).squeeze(1)\n",
    "            loss = loss_fn(predictions, minibatch.state)\n",
    "            accuracy = calc_accuracy(predictions, minibatch.state)    \n",
    "\n",
    "            epoch_loss += loss.item()\n",
    "            epoch_accuracy += accuracy.item()\n",
    "        \n",
    "    return epoch_loss / len(iterator), epoch_accuracy / len(iterator)"
   ]
  },
  {
   "cell_type": "code",
   "execution_count": 22,
   "metadata": {
    "scrolled": true
   },
   "outputs": [
    {
     "name": "stderr",
     "output_type": "stream",
     "text": [
      "E:\\Programs\\Installed_Programs\\Anaconda3\\lib\\site-packages\\torchtext\\data\\field.py:321: UserWarning: volatile was removed and now has no effect. Use `with torch.no_grad():` instead.\n",
      "  return Variable(arr, volatile=not train), lengths\n",
      "E:\\Programs\\Installed_Programs\\Anaconda3\\lib\\site-packages\\torchtext\\data\\field.py:322: UserWarning: volatile was removed and now has no effect. Use `with torch.no_grad():` instead.\n",
      "  return Variable(arr, volatile=not train)\n"
     ]
    },
    {
     "name": "stdout",
     "output_type": "stream",
     "text": [
      "Epoch: 01, Train Loss: 0.6936, Train Accuracy: 50.08%, Validation Loss: 0.6931, Validation Accuracy: 51.09%\n",
      "Total Time Passed: 0 hours, 1 minutes, 59.76 seconds\n",
      "Epoch: 02, Train Loss: 0.6930, Train Accuracy: 51.01%, Validation Loss: 0.6925, Validation Accuracy: 52.02%\n",
      "Total Time Passed: 0 hours, 4 minutes, 3.59 seconds\n",
      "Epoch: 03, Train Loss: 0.6925, Train Accuracy: 51.63%, Validation Loss: 0.6920, Validation Accuracy: 52.51%\n",
      "Total Time Passed: 0 hours, 6 minutes, 4.63 seconds\n",
      "Epoch: 04, Train Loss: 0.6922, Train Accuracy: 51.96%, Validation Loss: 0.6917, Validation Accuracy: 52.59%\n",
      "Total Time Passed: 0 hours, 8 minutes, 15.21 seconds\n",
      "Epoch: 05, Train Loss: 0.6919, Train Accuracy: 52.28%, Validation Loss: 0.6913, Validation Accuracy: 52.81%\n",
      "Total Time Passed: 0 hours, 11 minutes, 7.98 seconds\n",
      "Epoch: 06, Train Loss: 0.6916, Train Accuracy: 52.54%, Validation Loss: 0.6911, Validation Accuracy: 52.95%\n",
      "Total Time Passed: 0 hours, 13 minutes, 19.48 seconds\n",
      "Epoch: 07, Train Loss: 0.6913, Train Accuracy: 52.80%, Validation Loss: 0.6908, Validation Accuracy: 53.23%\n",
      "Total Time Passed: 0 hours, 15 minutes, 21.71 seconds\n",
      "Epoch: 08, Train Loss: 0.6911, Train Accuracy: 52.94%, Validation Loss: 0.6906, Validation Accuracy: 53.38%\n",
      "Total Time Passed: 0 hours, 17 minutes, 22.00 seconds\n",
      "Epoch: 09, Train Loss: 0.6909, Train Accuracy: 53.06%, Validation Loss: 0.6903, Validation Accuracy: 53.47%\n",
      "Total Time Passed: 0 hours, 19 minutes, 22.50 seconds\n",
      "Epoch: 10, Train Loss: 0.6907, Train Accuracy: 53.19%, Validation Loss: 0.6901, Validation Accuracy: 53.52%\n",
      "Total Time Passed: 0 hours, 21 minutes, 22.98 seconds\n",
      "Epoch: 11, Train Loss: 0.6905, Train Accuracy: 53.35%, Validation Loss: 0.6900, Validation Accuracy: 53.69%\n",
      "Total Time Passed: 0 hours, 23 minutes, 21.36 seconds\n",
      "Epoch: 12, Train Loss: 0.6903, Train Accuracy: 53.39%, Validation Loss: 0.6898, Validation Accuracy: 53.63%\n",
      "Total Time Passed: 0 hours, 25 minutes, 24.71 seconds\n",
      "Epoch: 13, Train Loss: 0.6902, Train Accuracy: 53.40%, Validation Loss: 0.6896, Validation Accuracy: 53.81%\n",
      "Total Time Passed: 0 hours, 27 minutes, 24.25 seconds\n",
      "Epoch: 14, Train Loss: 0.6900, Train Accuracy: 53.49%, Validation Loss: 0.6895, Validation Accuracy: 53.88%\n",
      "Total Time Passed: 0 hours, 29 minutes, 21.55 seconds\n",
      "Epoch: 15, Train Loss: 0.6899, Train Accuracy: 53.57%, Validation Loss: 0.6893, Validation Accuracy: 53.73%\n",
      "Total Time Passed: 0 hours, 31 minutes, 24.68 seconds\n",
      "Epoch: 16, Train Loss: 0.6898, Train Accuracy: 53.59%, Validation Loss: 0.6892, Validation Accuracy: 53.79%\n",
      "Total Time Passed: 0 hours, 33 minutes, 19.40 seconds\n",
      "Epoch: 17, Train Loss: 0.6896, Train Accuracy: 53.62%, Validation Loss: 0.6891, Validation Accuracy: 53.94%\n",
      "Total Time Passed: 0 hours, 35 minutes, 19.48 seconds\n",
      "Epoch: 18, Train Loss: 0.6895, Train Accuracy: 53.63%, Validation Loss: 0.6890, Validation Accuracy: 53.85%\n",
      "Total Time Passed: 0 hours, 37 minutes, 17.44 seconds\n",
      "Epoch: 19, Train Loss: 0.6894, Train Accuracy: 53.63%, Validation Loss: 0.6888, Validation Accuracy: 53.92%\n",
      "Total Time Passed: 0 hours, 39 minutes, 13.16 seconds\n",
      "Epoch: 20, Train Loss: 0.6893, Train Accuracy: 53.65%, Validation Loss: 0.6887, Validation Accuracy: 53.92%\n",
      "Total Time Passed: 0 hours, 41 minutes, 14.80 seconds\n",
      "Epoch: 21, Train Loss: 0.6892, Train Accuracy: 53.66%, Validation Loss: 0.6886, Validation Accuracy: 53.86%\n",
      "Total Time Passed: 0 hours, 43 minutes, 13.24 seconds\n",
      "Epoch: 22, Train Loss: 0.6891, Train Accuracy: 53.78%, Validation Loss: 0.6885, Validation Accuracy: 53.93%\n",
      "Total Time Passed: 0 hours, 45 minutes, 10.98 seconds\n",
      "Epoch: 23, Train Loss: 0.6890, Train Accuracy: 53.80%, Validation Loss: 0.6884, Validation Accuracy: 53.88%\n",
      "Total Time Passed: 0 hours, 47 minutes, 8.76 seconds\n",
      "Epoch: 24, Train Loss: 0.6889, Train Accuracy: 53.77%, Validation Loss: 0.6883, Validation Accuracy: 53.93%\n",
      "Total Time Passed: 0 hours, 49 minutes, 9.15 seconds\n",
      "Epoch: 25, Train Loss: 0.6889, Train Accuracy: 53.82%, Validation Loss: 0.6883, Validation Accuracy: 53.96%\n",
      "Total Time Passed: 0 hours, 51 minutes, 6.02 seconds\n",
      "Epoch: 26, Train Loss: 0.6888, Train Accuracy: 53.89%, Validation Loss: 0.6882, Validation Accuracy: 53.98%\n",
      "Total Time Passed: 0 hours, 53 minutes, 3.25 seconds\n",
      "Epoch: 27, Train Loss: 0.6887, Train Accuracy: 53.88%, Validation Loss: 0.6881, Validation Accuracy: 54.01%\n",
      "Total Time Passed: 0 hours, 55 minutes, 1.69 seconds\n",
      "Epoch: 28, Train Loss: 0.6886, Train Accuracy: 53.90%, Validation Loss: 0.6880, Validation Accuracy: 54.04%\n",
      "Total Time Passed: 0 hours, 56 minutes, 59.95 seconds\n",
      "Epoch: 29, Train Loss: 0.6886, Train Accuracy: 53.89%, Validation Loss: 0.6879, Validation Accuracy: 54.02%\n",
      "Total Time Passed: 0 hours, 58 minutes, 56.80 seconds\n",
      "Epoch: 30, Train Loss: 0.6885, Train Accuracy: 53.93%, Validation Loss: 0.6879, Validation Accuracy: 54.06%\n",
      "Total Time Passed: 1 hours, 0 minutes, 55.04 seconds\n",
      "Epoch: 31, Train Loss: 0.6884, Train Accuracy: 53.97%, Validation Loss: 0.6878, Validation Accuracy: 54.02%\n",
      "Total Time Passed: 1 hours, 3 minutes, 6.26 seconds\n",
      "Epoch: 32, Train Loss: 0.6883, Train Accuracy: 53.99%, Validation Loss: 0.6877, Validation Accuracy: 54.08%\n",
      "Total Time Passed: 1 hours, 5 minutes, 3.93 seconds\n",
      "Epoch: 33, Train Loss: 0.6883, Train Accuracy: 53.96%, Validation Loss: 0.6876, Validation Accuracy: 54.10%\n",
      "Total Time Passed: 1 hours, 6 minutes, 59.67 seconds\n",
      "Epoch: 34, Train Loss: 0.6882, Train Accuracy: 53.99%, Validation Loss: 0.6876, Validation Accuracy: 54.18%\n",
      "Total Time Passed: 1 hours, 8 minutes, 54.34 seconds\n",
      "Epoch: 35, Train Loss: 0.6881, Train Accuracy: 54.05%, Validation Loss: 0.6875, Validation Accuracy: 54.20%\n",
      "Total Time Passed: 1 hours, 10 minutes, 52.09 seconds\n",
      "Epoch: 36, Train Loss: 0.6881, Train Accuracy: 54.02%, Validation Loss: 0.6874, Validation Accuracy: 54.18%\n",
      "Total Time Passed: 1 hours, 12 minutes, 55.48 seconds\n",
      "Epoch: 37, Train Loss: 0.6880, Train Accuracy: 54.08%, Validation Loss: 0.6874, Validation Accuracy: 54.20%\n",
      "Total Time Passed: 1 hours, 14 minutes, 56.94 seconds\n",
      "Epoch: 38, Train Loss: 0.6879, Train Accuracy: 54.11%, Validation Loss: 0.6873, Validation Accuracy: 54.29%\n",
      "Total Time Passed: 1 hours, 16 minutes, 55.54 seconds\n",
      "Epoch: 39, Train Loss: 0.6879, Train Accuracy: 54.14%, Validation Loss: 0.6872, Validation Accuracy: 54.32%\n",
      "Total Time Passed: 1 hours, 18 minutes, 52.18 seconds\n",
      "Epoch: 40, Train Loss: 0.6878, Train Accuracy: 54.18%, Validation Loss: 0.6872, Validation Accuracy: 54.28%\n",
      "Total Time Passed: 1 hours, 20 minutes, 55.13 seconds\n",
      "Epoch: 41, Train Loss: 0.6878, Train Accuracy: 54.19%, Validation Loss: 0.6871, Validation Accuracy: 54.41%\n",
      "Total Time Passed: 1 hours, 22 minutes, 55.54 seconds\n",
      "Epoch: 42, Train Loss: 0.6877, Train Accuracy: 54.21%, Validation Loss: 0.6870, Validation Accuracy: 54.38%\n",
      "Total Time Passed: 1 hours, 25 minutes, 6.99 seconds\n",
      "Epoch: 43, Train Loss: 0.6876, Train Accuracy: 54.25%, Validation Loss: 0.6870, Validation Accuracy: 54.46%\n",
      "Total Time Passed: 1 hours, 27 minutes, 34.16 seconds\n",
      "Epoch: 44, Train Loss: 0.6876, Train Accuracy: 54.20%, Validation Loss: 0.6869, Validation Accuracy: 54.42%\n",
      "Total Time Passed: 1 hours, 29 minutes, 36.95 seconds\n",
      "Epoch: 45, Train Loss: 0.6875, Train Accuracy: 54.23%, Validation Loss: 0.6868, Validation Accuracy: 54.48%\n",
      "Total Time Passed: 1 hours, 31 minutes, 34.14 seconds\n",
      "Epoch: 46, Train Loss: 0.6875, Train Accuracy: 54.22%, Validation Loss: 0.6868, Validation Accuracy: 54.55%\n",
      "Total Time Passed: 1 hours, 33 minutes, 30.92 seconds\n",
      "Epoch: 47, Train Loss: 0.6874, Train Accuracy: 54.24%, Validation Loss: 0.6867, Validation Accuracy: 54.65%\n",
      "Total Time Passed: 1 hours, 35 minutes, 28.61 seconds\n",
      "Epoch: 48, Train Loss: 0.6873, Train Accuracy: 54.32%, Validation Loss: 0.6867, Validation Accuracy: 54.57%\n",
      "Total Time Passed: 1 hours, 37 minutes, 27.36 seconds\n",
      "Epoch: 49, Train Loss: 0.6873, Train Accuracy: 54.34%, Validation Loss: 0.6866, Validation Accuracy: 54.65%\n",
      "Total Time Passed: 1 hours, 39 minutes, 30.23 seconds\n",
      "Epoch: 50, Train Loss: 0.6872, Train Accuracy: 54.26%, Validation Loss: 0.6865, Validation Accuracy: 54.66%\n",
      "Total Time Passed: 1 hours, 41 minutes, 33.80 seconds\n",
      "Epoch: 51, Train Loss: 0.6872, Train Accuracy: 54.34%, Validation Loss: 0.6865, Validation Accuracy: 54.67%\n"
     ]
    },
    {
     "name": "stdout",
     "output_type": "stream",
     "text": [
      "Total Time Passed: 1 hours, 43 minutes, 32.72 seconds\n",
      "Epoch: 52, Train Loss: 0.6871, Train Accuracy: 54.33%, Validation Loss: 0.6864, Validation Accuracy: 54.66%\n",
      "Total Time Passed: 1 hours, 45 minutes, 28.49 seconds\n",
      "Epoch: 53, Train Loss: 0.6870, Train Accuracy: 54.35%, Validation Loss: 0.6863, Validation Accuracy: 54.65%\n",
      "Total Time Passed: 1 hours, 47 minutes, 27.09 seconds\n",
      "Epoch: 54, Train Loss: 0.6870, Train Accuracy: 54.38%, Validation Loss: 0.6863, Validation Accuracy: 54.70%\n",
      "Total Time Passed: 1 hours, 49 minutes, 24.81 seconds\n",
      "Epoch: 55, Train Loss: 0.6869, Train Accuracy: 54.42%, Validation Loss: 0.6862, Validation Accuracy: 54.73%\n",
      "Total Time Passed: 1 hours, 51 minutes, 23.74 seconds\n",
      "Epoch: 56, Train Loss: 0.6868, Train Accuracy: 54.39%, Validation Loss: 0.6862, Validation Accuracy: 54.75%\n",
      "Total Time Passed: 1 hours, 53 minutes, 22.56 seconds\n",
      "Epoch: 57, Train Loss: 0.6868, Train Accuracy: 54.41%, Validation Loss: 0.6861, Validation Accuracy: 54.76%\n",
      "Total Time Passed: 1 hours, 55 minutes, 22.51 seconds\n",
      "Epoch: 58, Train Loss: 0.6867, Train Accuracy: 54.43%, Validation Loss: 0.6861, Validation Accuracy: 54.78%\n",
      "Total Time Passed: 1 hours, 57 minutes, 22.89 seconds\n",
      "Epoch: 59, Train Loss: 0.6867, Train Accuracy: 54.50%, Validation Loss: 0.6860, Validation Accuracy: 54.86%\n",
      "Total Time Passed: 1 hours, 59 minutes, 18.82 seconds\n",
      "Epoch: 60, Train Loss: 0.6866, Train Accuracy: 54.48%, Validation Loss: 0.6860, Validation Accuracy: 54.82%\n",
      "Total Time Passed: 2 hours, 1 minutes, 15.03 seconds\n",
      "Epoch: 61, Train Loss: 0.6866, Train Accuracy: 54.50%, Validation Loss: 0.6859, Validation Accuracy: 54.86%\n",
      "Total Time Passed: 2 hours, 3 minutes, 11.67 seconds\n",
      "Epoch: 62, Train Loss: 0.6865, Train Accuracy: 54.49%, Validation Loss: 0.6858, Validation Accuracy: 54.97%\n",
      "Total Time Passed: 2 hours, 5 minutes, 28.48 seconds\n",
      "Epoch: 63, Train Loss: 0.6864, Train Accuracy: 54.56%, Validation Loss: 0.6858, Validation Accuracy: 55.02%\n",
      "Total Time Passed: 2 hours, 7 minutes, 31.64 seconds\n",
      "Epoch: 64, Train Loss: 0.6864, Train Accuracy: 54.58%, Validation Loss: 0.6857, Validation Accuracy: 55.03%\n",
      "Total Time Passed: 2 hours, 9 minutes, 49.60 seconds\n",
      "Epoch: 65, Train Loss: 0.6863, Train Accuracy: 54.60%, Validation Loss: 0.6857, Validation Accuracy: 54.99%\n",
      "Total Time Passed: 2 hours, 11 minutes, 49.33 seconds\n",
      "Epoch: 66, Train Loss: 0.6862, Train Accuracy: 54.58%, Validation Loss: 0.6856, Validation Accuracy: 55.03%\n",
      "Total Time Passed: 2 hours, 13 minutes, 46.88 seconds\n",
      "Epoch: 67, Train Loss: 0.6862, Train Accuracy: 54.61%, Validation Loss: 0.6855, Validation Accuracy: 54.99%\n",
      "Total Time Passed: 2 hours, 15 minutes, 50.48 seconds\n",
      "Epoch: 68, Train Loss: 0.6861, Train Accuracy: 54.66%, Validation Loss: 0.6855, Validation Accuracy: 55.13%\n",
      "Total Time Passed: 2 hours, 17 minutes, 54.98 seconds\n",
      "Epoch: 69, Train Loss: 0.6861, Train Accuracy: 54.63%, Validation Loss: 0.6855, Validation Accuracy: 55.15%\n",
      "Total Time Passed: 2 hours, 19 minutes, 58.60 seconds\n",
      "Epoch: 70, Train Loss: 0.6860, Train Accuracy: 54.65%, Validation Loss: 0.6854, Validation Accuracy: 55.08%\n",
      "Total Time Passed: 2 hours, 21 minutes, 56.28 seconds\n",
      "Epoch: 71, Train Loss: 0.6859, Train Accuracy: 54.70%, Validation Loss: 0.6853, Validation Accuracy: 55.14%\n",
      "Total Time Passed: 2 hours, 23 minutes, 54.91 seconds\n",
      "Epoch: 72, Train Loss: 0.6859, Train Accuracy: 54.71%, Validation Loss: 0.6853, Validation Accuracy: 55.11%\n",
      "Total Time Passed: 2 hours, 25 minutes, 52.10 seconds\n",
      "Epoch: 73, Train Loss: 0.6858, Train Accuracy: 54.72%, Validation Loss: 0.6852, Validation Accuracy: 55.18%\n",
      "Total Time Passed: 2 hours, 27 minutes, 54.60 seconds\n",
      "Epoch: 74, Train Loss: 0.6858, Train Accuracy: 54.75%, Validation Loss: 0.6852, Validation Accuracy: 55.20%\n",
      "Total Time Passed: 2 hours, 30 minutes, 4.07 seconds\n",
      "Epoch: 75, Train Loss: 0.6857, Train Accuracy: 54.75%, Validation Loss: 0.6851, Validation Accuracy: 55.21%\n",
      "Total Time Passed: 2 hours, 32 minutes, 4.34 seconds\n",
      "Epoch: 76, Train Loss: 0.6857, Train Accuracy: 54.81%, Validation Loss: 0.6851, Validation Accuracy: 55.25%\n",
      "Total Time Passed: 2 hours, 34 minutes, 13.33 seconds\n",
      "Epoch: 77, Train Loss: 0.6856, Train Accuracy: 54.79%, Validation Loss: 0.6850, Validation Accuracy: 55.32%\n",
      "Total Time Passed: 2 hours, 36 minutes, 34.32 seconds\n",
      "Epoch: 78, Train Loss: 0.6855, Train Accuracy: 54.83%, Validation Loss: 0.6850, Validation Accuracy: 55.34%\n",
      "Total Time Passed: 2 hours, 39 minutes, 2.39 seconds\n",
      "Epoch: 79, Train Loss: 0.6855, Train Accuracy: 54.81%, Validation Loss: 0.6849, Validation Accuracy: 55.45%\n",
      "Total Time Passed: 2 hours, 41 minutes, 3.43 seconds\n",
      "Epoch: 80, Train Loss: 0.6854, Train Accuracy: 54.83%, Validation Loss: 0.6849, Validation Accuracy: 55.41%\n",
      "Total Time Passed: 2 hours, 43 minutes, 7.24 seconds\n",
      "Epoch: 81, Train Loss: 0.6853, Train Accuracy: 54.90%, Validation Loss: 0.6848, Validation Accuracy: 55.45%\n",
      "Total Time Passed: 2 hours, 45 minutes, 6.25 seconds\n",
      "Epoch: 82, Train Loss: 0.6853, Train Accuracy: 54.87%, Validation Loss: 0.6847, Validation Accuracy: 55.43%\n",
      "Total Time Passed: 2 hours, 47 minutes, 5.95 seconds\n",
      "Epoch: 83, Train Loss: 0.6852, Train Accuracy: 54.91%, Validation Loss: 0.6847, Validation Accuracy: 55.47%\n",
      "Total Time Passed: 2 hours, 49 minutes, 3.12 seconds\n",
      "Epoch: 84, Train Loss: 0.6851, Train Accuracy: 54.92%, Validation Loss: 0.6846, Validation Accuracy: 55.50%\n",
      "Total Time Passed: 2 hours, 51 minutes, 6.46 seconds\n",
      "Epoch: 85, Train Loss: 0.6851, Train Accuracy: 54.89%, Validation Loss: 0.6846, Validation Accuracy: 55.51%\n",
      "Total Time Passed: 2 hours, 53 minutes, 9.28 seconds\n",
      "Epoch: 86, Train Loss: 0.6850, Train Accuracy: 54.94%, Validation Loss: 0.6845, Validation Accuracy: 55.53%\n",
      "Total Time Passed: 2 hours, 55 minutes, 6.31 seconds\n",
      "Epoch: 87, Train Loss: 0.6850, Train Accuracy: 54.98%, Validation Loss: 0.6845, Validation Accuracy: 55.59%\n",
      "Total Time Passed: 2 hours, 57 minutes, 4.27 seconds\n",
      "Epoch: 88, Train Loss: 0.6849, Train Accuracy: 54.93%, Validation Loss: 0.6844, Validation Accuracy: 55.53%\n",
      "Total Time Passed: 2 hours, 59 minutes, 3.93 seconds\n",
      "Epoch: 89, Train Loss: 0.6848, Train Accuracy: 54.99%, Validation Loss: 0.6844, Validation Accuracy: 55.56%\n",
      "Total Time Passed: 3 hours, 1 minutes, 7.42 seconds\n",
      "Epoch: 90, Train Loss: 0.6848, Train Accuracy: 54.95%, Validation Loss: 0.6844, Validation Accuracy: 55.43%\n",
      "Total Time Passed: 3 hours, 3 minutes, 31.22 seconds\n",
      "Epoch: 91, Train Loss: 0.6847, Train Accuracy: 54.98%, Validation Loss: 0.6843, Validation Accuracy: 55.54%\n",
      "Total Time Passed: 3 hours, 5 minutes, 29.45 seconds\n",
      "Epoch: 92, Train Loss: 0.6846, Train Accuracy: 54.99%, Validation Loss: 0.6842, Validation Accuracy: 55.54%\n",
      "Total Time Passed: 3 hours, 7 minutes, 28.44 seconds\n",
      "Epoch: 93, Train Loss: 0.6846, Train Accuracy: 55.01%, Validation Loss: 0.6842, Validation Accuracy: 55.57%\n",
      "Total Time Passed: 3 hours, 9 minutes, 33.57 seconds\n",
      "Epoch: 94, Train Loss: 0.6845, Train Accuracy: 55.03%, Validation Loss: 0.6841, Validation Accuracy: 55.57%\n",
      "Total Time Passed: 3 hours, 11 minutes, 29.73 seconds\n",
      "Epoch: 95, Train Loss: 0.6844, Train Accuracy: 55.07%, Validation Loss: 0.6840, Validation Accuracy: 55.61%\n",
      "Total Time Passed: 3 hours, 13 minutes, 50.61 seconds\n",
      "Epoch: 96, Train Loss: 0.6844, Train Accuracy: 55.05%, Validation Loss: 0.6840, Validation Accuracy: 55.62%\n",
      "Total Time Passed: 3 hours, 15 minutes, 47.67 seconds\n",
      "Epoch: 97, Train Loss: 0.6843, Train Accuracy: 55.09%, Validation Loss: 0.6839, Validation Accuracy: 55.63%\n",
      "Total Time Passed: 3 hours, 17 minutes, 44.12 seconds\n",
      "Epoch: 98, Train Loss: 0.6842, Train Accuracy: 55.06%, Validation Loss: 0.6839, Validation Accuracy: 55.67%\n",
      "Total Time Passed: 3 hours, 20 minutes, 12.42 seconds\n",
      "Epoch: 99, Train Loss: 0.6842, Train Accuracy: 55.09%, Validation Loss: 0.6838, Validation Accuracy: 55.62%\n",
      "Total Time Passed: 3 hours, 22 minutes, 48.59 seconds\n",
      "Epoch: 100, Train Loss: 0.6841, Train Accuracy: 55.08%, Validation Loss: 0.6838, Validation Accuracy: 55.56%\n",
      "Total Time Passed: 3 hours, 25 minutes, 38.92 seconds\n"
     ]
    }
   ],
   "source": [
    "no_epochs = 100\n",
    "#import ipdb; ipdb.set_trace() # debugging starts here\n",
    "train_accuracies = []\n",
    "validation_accuracies = []\n",
    "init_time = datetime.datetime.now()\n",
    "for epoch in range(no_epochs):\n",
    "    train_loss, train_accuracy = train(lstmmodel, train_iter, optimizer, loss_fn)\n",
    "    validation_loss, validation_accuracy = evaluate(lstmmodel, validation_iter, loss_fn)\n",
    "    train_accuracies.append(train_accuracy)\n",
    "    validation_accuracies.append(validation_accuracy)\n",
    "    current_time = datetime.datetime.now()\n",
    "    total_time = (current_time-init_time).total_seconds()\n",
    "    print(f'Epoch: {epoch+1:02}, Train Loss: {train_loss:.4f}, Train Accuracy: {train_accuracy*100:.2f}%, ' +  \n",
    "          f'Validation Loss: {validation_loss:.4f}, Validation Accuracy: {validation_accuracy*100:.2f}%')\n",
    "    print(f'Total Time Passed: {floor(total_time/3600)} hours, {floor(total_time/60)%60} minutes, {total_time%60:.2f} seconds')"
   ]
  },
  {
   "cell_type": "code",
   "execution_count": 23,
   "metadata": {},
   "outputs": [
    {
     "name": "stderr",
     "output_type": "stream",
     "text": [
      "E:\\Programs\\Installed_Programs\\Anaconda3\\lib\\site-packages\\torchtext\\data\\field.py:321: UserWarning: volatile was removed and now has no effect. Use `with torch.no_grad():` instead.\n",
      "  return Variable(arr, volatile=not train), lengths\n",
      "E:\\Programs\\Installed_Programs\\Anaconda3\\lib\\site-packages\\torchtext\\data\\field.py:322: UserWarning: volatile was removed and now has no effect. Use `with torch.no_grad():` instead.\n",
      "  return Variable(arr, volatile=not train)\n"
     ]
    },
    {
     "name": "stdout",
     "output_type": "stream",
     "text": [
      "Test Loss: 0.6858, Test Accuracy: 54.66%\n"
     ]
    }
   ],
   "source": [
    "test_loss, test_accuracy = evaluate(lstmmodel, test_iter, loss_fn)\n",
    "\n",
    "print(f'Test Loss: {test_loss:.4f}, Test Accuracy: {test_accuracy*100:.2f}%')"
   ]
  },
  {
   "cell_type": "code",
   "execution_count": 26,
   "metadata": {},
   "outputs": [
    {
     "data": {
      "image/png": "[encoded data removed]",
      "text/plain": [
       "<Figure size 432x288 with 1 Axes>"
      ]
     },
     "metadata": {},
     "output_type": "display_data"
    }
   ],
   "source": [
    "import matplotlib.pyplot as plt\n",
    "\n",
    "plt.plot(range(1,no_epochs+1),train_accuracies)\n",
    "plt.show()"
   ]
  },
  {
   "cell_type": "code",
   "execution_count": null,
   "metadata": {},
   "outputs": [],
   "source": []
  }
 ],
 "metadata": {
  "kernelspec": {
   "display_name": "Python 3",
   "language": "python",
   "name": "python3"
  },
  "language_info": {
   "codemirror_mode": {
    "name": "ipython",
    "version": 3
   },
   "file_extension": ".py",
   "mimetype": "text/x-python",
   "name": "python",
   "nbconvert_exporter": "python",
   "pygments_lexer": "ipython3",
   "version": "3.6.5"
  }
 },
 "nbformat": 4,
 "nbformat_minor": 2
}
