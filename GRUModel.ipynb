{
 "cells": [
  {
   "cell_type": "code",
   "execution_count": 1,
   "metadata": {},
   "outputs": [],
   "source": [
    "from torchtext import data\n",
    "import torch\n",
    "import torch.nn as nn\n",
    "import torch.optim as optim\n",
    "import random\n",
    "import datetime\n",
    "from math import floor\n",
    "\n",
    "seed = 1\n",
    "torch.manual_seed(seed)\n",
    "device = torch.device('cpu')\n",
    "iterator_device = None"
   ]
  },
  {
   "cell_type": "code",
   "execution_count": 2,
   "metadata": {},
   "outputs": [],
   "source": [
    "blurb_field = data.Field(sequential=True, use_vocab=True, lower=True, tokenize=\"spacy\", include_lengths=True)\n",
    "state_field = data.LabelField(sequential=False, use_vocab=False, tensor_type=torch.FloatTensor,\n",
    "                              preprocessing=lambda x:1 if x=='successful' else 0)\n",
    "dataset = data.TabularDataset(path='df_text_eng.csv',format='csv',skip_header=True,fields=[('Unnamed: 0', None),('blurb', blurb_field),('state', state_field)])"
   ]
  },
  {
   "cell_type": "code",
   "execution_count": 3,
   "metadata": {},
   "outputs": [
    {
     "name": "stdout",
     "output_type": "stream",
     "text": [
      "Training Set Size:  150859\n",
      "Test Set Size:  32327\n",
      "Validation Set Size:  32327\n"
     ]
    }
   ],
   "source": [
    "train, test, validation = dataset.split(random_state=random.seed(seed), split_ratio=[70,15,15])\n",
    "print(\"Training Set Size: \", len(train))\n",
    "print(\"Test Set Size: \", len(test))\n",
    "print(\"Validation Set Size: \", len(validation))"
   ]
  },
  {
   "cell_type": "code",
   "execution_count": 4,
   "metadata": {},
   "outputs": [
    {
     "name": "stdout",
     "output_type": "stream",
     "text": [
      "Vocabulary size used:  28760\n"
     ]
    }
   ],
   "source": [
    "#words that appear less than 3 times (2 or less) will be considered unknown words with tag \"<unk>\", \n",
    "#they will have the same word embedding\n",
    "#vocabulary of the training set will only be used to emulate real world situtaions when the test set is unknown\n",
    "blurb_field.build_vocab(train,min_freq=3)\n",
    "print(\"Vocabulary size used: \",len(blurb_field.vocab))"
   ]
  },
  {
   "cell_type": "code",
   "execution_count": 5,
   "metadata": {},
   "outputs": [],
   "source": [
    "batch_size = 64\n",
    "\n",
    "train_iter = data.BucketIterator(dataset=train, batch_size=batch_size, sort_key=lambda x:len(x.blurb),device=iterator_device,\n",
    "                                repeat=False, train=True, sort_within_batch=True)\n",
    "test_iter = data.BucketIterator(dataset=test, batch_size=batch_size, sort_key=lambda x:len(x.blurb),device=iterator_device,\n",
    "                                train=False, sort_within_batch=True)\n",
    "validation_iter = data.BucketIterator(dataset=validation, batch_size=batch_size, sort_key=lambda x:len(x.blurb),device=iterator_device,\n",
    "                                      train=False, sort_within_batch=True)"
   ]
  },
  {
   "cell_type": "code",
   "execution_count": 24,
   "metadata": {},
   "outputs": [],
   "source": [
    "class GRUNet(nn.Module):\n",
    "    def __init__(self, vocab_size, embed_size, hidden_size, output_size, padding_idx=None):\n",
    "        super(GRUNet, self).__init__()\n",
    "        self.embedding = nn.Embedding(vocab_size, embed_size, padding_idx=padding_idx)    # word embedding\n",
    "        self.gru = nn.GRU(embed_size, hidden_size)  #GRU layer, default activation function is tanh\n",
    "        self.out = nn.Linear(hidden_size, output_size)   # output layer (Fully Connected)\n",
    "\n",
    "    def forward(self, x, x_lengths):\n",
    "        #x -> [sentence length(max, smaller sentences are padded), minibatch size]\n",
    "        embeds = self.embedding(x)\n",
    "        \n",
    "        #embeds -> [sentence length, minibatch size, embedding size]\n",
    "        embeds = nn.utils.rnn.pack_padded_sequence(embeds,x_lengths)\n",
    "        all_hiddens, last_hidden = self.gru(embeds)      # activation function for hidden layer\n",
    "        #the first dimension of the hidden layer is 1 (we use one hidden layer uniderectional GRUs), squeeze removes it to be \n",
    "        #able to enter the fully connected layer with dimensions [batch size, hidden size]\n",
    "        score = self.out(last_hidden.squeeze(0))           \n",
    "        return score"
   ]
  },
  {
   "cell_type": "code",
   "execution_count": 25,
   "metadata": {},
   "outputs": [],
   "source": [
    "def calc_accuracy(predictions, y):\n",
    "    predictions = torch.round(torch.sigmoid(predictions))\n",
    "    correct = (sum(predictions == y)).float()\n",
    "    accuracy = correct/len(predictions)\n",
    "    return accuracy"
   ]
  },
  {
   "cell_type": "code",
   "execution_count": 26,
   "metadata": {},
   "outputs": [],
   "source": [
    "padding_idx = blurb_field.vocab.stoi['<pad>']\n",
    "embed_size = 100\n",
    "hidden_size = 100"
   ]
  },
  {
   "cell_type": "code",
   "execution_count": 27,
   "metadata": {},
   "outputs": [],
   "source": [
    "grumodel = GRUNet(len(blurb_field.vocab),embed_size,hidden_size,1, padding_idx=padding_idx)\n",
    "optimizer = optim.SGD(grumodel.parameters(), lr=1e-3)\n",
    "loss_fn = nn.BCEWithLogitsLoss()\n",
    "grumodel = grumodel.to(device)\n",
    "loss_fn = loss_fn.to(device)"
   ]
  },
  {
   "cell_type": "code",
   "execution_count": 28,
   "metadata": {},
   "outputs": [],
   "source": [
    "def train(model, iterator, optimizer, loss_fn):\n",
    "    epoch_loss = 0\n",
    "    epoch_accuracy = 0\n",
    "    \n",
    "    model.train()\n",
    "    \n",
    "    for minibatch in iterator:\n",
    "        optimizer.zero_grad()\n",
    "        predictions = model(minibatch.blurb[0],minibatch.blurb[1]).squeeze(1)\n",
    "        loss = loss_fn(predictions, minibatch.state)\n",
    "        accuracy = calc_accuracy(predictions, minibatch.state)    \n",
    "        loss.backward()\n",
    "        optimizer.step()\n",
    "        \n",
    "        epoch_loss += loss.item()\n",
    "        epoch_accuracy += accuracy.item()\n",
    "        \n",
    "    return epoch_loss / len(iterator), epoch_accuracy / len(iterator)"
   ]
  },
  {
   "cell_type": "code",
   "execution_count": 29,
   "metadata": {},
   "outputs": [],
   "source": [
    "def evaluate(model, iterator, loss_fn):\n",
    "    epoch_loss = 0\n",
    "    epoch_accuracy = 0\n",
    "    \n",
    "    model.eval()\n",
    "    \n",
    "    with torch.no_grad():\n",
    "        for minibatch in iterator:\n",
    "            predictions = model(minibatch.blurb[0],minibatch.blurb[1]).squeeze(1)\n",
    "            loss = loss_fn(predictions, minibatch.state)\n",
    "            accuracy = calc_accuracy(predictions, minibatch.state)    \n",
    "\n",
    "            epoch_loss += loss.item()\n",
    "            epoch_accuracy += accuracy.item()\n",
    "        \n",
    "    return epoch_loss / len(iterator), epoch_accuracy / len(iterator)"
   ]
  },
  {
   "cell_type": "code",
   "execution_count": 30,
   "metadata": {
    "scrolled": true
   },
   "outputs": [
    {
     "name": "stderr",
     "output_type": "stream",
     "text": [
      "E:\\Programs\\Installed_Programs\\Anaconda3\\lib\\site-packages\\torchtext\\data\\field.py:321: UserWarning: volatile was removed and now has no effect. Use `with torch.no_grad():` instead.\n",
      "  return Variable(arr, volatile=not train), lengths\n",
      "E:\\Programs\\Installed_Programs\\Anaconda3\\lib\\site-packages\\torchtext\\data\\field.py:322: UserWarning: volatile was removed and now has no effect. Use `with torch.no_grad():` instead.\n",
      "  return Variable(arr, volatile=not train)\n"
     ]
    },
    {
     "name": "stdout",
     "output_type": "stream",
     "text": [
      "Epoch: 01, Train Loss: 0.6941, Train Accuracy: 50.49%, Validation Loss: 0.6933, Validation Accuracy: 51.28%\n",
      "Total Time Passed: 0 hours, 1 minutes, 52.68 seconds\n",
      "Epoch: 02, Train Loss: 0.6926, Train Accuracy: 51.68%, Validation Loss: 0.6923, Validation Accuracy: 51.90%\n",
      "Total Time Passed: 0 hours, 3 minutes, 44.34 seconds\n",
      "Epoch: 03, Train Loss: 0.6918, Train Accuracy: 52.09%, Validation Loss: 0.6916, Validation Accuracy: 52.24%\n",
      "Total Time Passed: 0 hours, 5 minutes, 37.74 seconds\n",
      "Epoch: 04, Train Loss: 0.6912, Train Accuracy: 52.45%, Validation Loss: 0.6910, Validation Accuracy: 52.61%\n",
      "Total Time Passed: 0 hours, 7 minutes, 24.57 seconds\n",
      "Epoch: 05, Train Loss: 0.6907, Train Accuracy: 52.82%, Validation Loss: 0.6905, Validation Accuracy: 52.78%\n",
      "Total Time Passed: 0 hours, 9 minutes, 15.08 seconds\n",
      "Epoch: 06, Train Loss: 0.6903, Train Accuracy: 53.06%, Validation Loss: 0.6901, Validation Accuracy: 53.04%\n",
      "Total Time Passed: 0 hours, 11 minutes, 3.54 seconds\n",
      "Epoch: 07, Train Loss: 0.6899, Train Accuracy: 53.29%, Validation Loss: 0.6897, Validation Accuracy: 53.22%\n",
      "Total Time Passed: 0 hours, 12 minutes, 51.42 seconds\n",
      "Epoch: 08, Train Loss: 0.6896, Train Accuracy: 53.48%, Validation Loss: 0.6894, Validation Accuracy: 53.54%\n",
      "Total Time Passed: 0 hours, 14 minutes, 53.40 seconds\n",
      "Epoch: 09, Train Loss: 0.6893, Train Accuracy: 53.64%, Validation Loss: 0.6891, Validation Accuracy: 53.65%\n",
      "Total Time Passed: 0 hours, 16 minutes, 49.67 seconds\n",
      "Epoch: 10, Train Loss: 0.6890, Train Accuracy: 53.74%, Validation Loss: 0.6889, Validation Accuracy: 53.78%\n",
      "Total Time Passed: 0 hours, 18 minutes, 41.60 seconds\n",
      "Epoch: 11, Train Loss: 0.6888, Train Accuracy: 53.85%, Validation Loss: 0.6886, Validation Accuracy: 53.78%\n",
      "Total Time Passed: 0 hours, 20 minutes, 32.86 seconds\n",
      "Epoch: 12, Train Loss: 0.6886, Train Accuracy: 54.02%, Validation Loss: 0.6884, Validation Accuracy: 53.99%\n",
      "Total Time Passed: 0 hours, 22 minutes, 20.42 seconds\n",
      "Epoch: 13, Train Loss: 0.6884, Train Accuracy: 54.06%, Validation Loss: 0.6882, Validation Accuracy: 54.04%\n",
      "Total Time Passed: 0 hours, 24 minutes, 6.99 seconds\n",
      "Epoch: 14, Train Loss: 0.6882, Train Accuracy: 54.16%, Validation Loss: 0.6880, Validation Accuracy: 54.13%\n",
      "Total Time Passed: 0 hours, 25 minutes, 55.00 seconds\n",
      "Epoch: 15, Train Loss: 0.6880, Train Accuracy: 54.23%, Validation Loss: 0.6878, Validation Accuracy: 54.13%\n",
      "Total Time Passed: 0 hours, 27 minutes, 41.23 seconds\n",
      "Epoch: 16, Train Loss: 0.6878, Train Accuracy: 54.24%, Validation Loss: 0.6876, Validation Accuracy: 54.29%\n",
      "Total Time Passed: 0 hours, 29 minutes, 27.61 seconds\n",
      "Epoch: 17, Train Loss: 0.6877, Train Accuracy: 54.36%, Validation Loss: 0.6876, Validation Accuracy: 54.27%\n",
      "Total Time Passed: 0 hours, 31 minutes, 13.12 seconds\n",
      "Epoch: 18, Train Loss: 0.6875, Train Accuracy: 54.38%, Validation Loss: 0.6874, Validation Accuracy: 54.34%\n",
      "Total Time Passed: 0 hours, 32 minutes, 58.46 seconds\n",
      "Epoch: 19, Train Loss: 0.6873, Train Accuracy: 54.41%, Validation Loss: 0.6872, Validation Accuracy: 54.54%\n",
      "Total Time Passed: 0 hours, 34 minutes, 43.63 seconds\n",
      "Epoch: 20, Train Loss: 0.6872, Train Accuracy: 54.50%, Validation Loss: 0.6871, Validation Accuracy: 54.57%\n",
      "Total Time Passed: 0 hours, 36 minutes, 27.71 seconds\n",
      "Epoch: 21, Train Loss: 0.6871, Train Accuracy: 54.47%, Validation Loss: 0.6869, Validation Accuracy: 54.62%\n",
      "Total Time Passed: 0 hours, 38 minutes, 11.17 seconds\n",
      "Epoch: 22, Train Loss: 0.6869, Train Accuracy: 54.61%, Validation Loss: 0.6868, Validation Accuracy: 54.75%\n",
      "Total Time Passed: 0 hours, 39 minutes, 54.45 seconds\n",
      "Epoch: 23, Train Loss: 0.6868, Train Accuracy: 54.61%, Validation Loss: 0.6866, Validation Accuracy: 54.68%\n",
      "Total Time Passed: 0 hours, 41 minutes, 38.26 seconds\n",
      "Epoch: 24, Train Loss: 0.6867, Train Accuracy: 54.70%, Validation Loss: 0.6865, Validation Accuracy: 54.61%\n",
      "Total Time Passed: 0 hours, 43 minutes, 21.69 seconds\n",
      "Epoch: 25, Train Loss: 0.6865, Train Accuracy: 54.82%, Validation Loss: 0.6865, Validation Accuracy: 54.83%\n",
      "Total Time Passed: 0 hours, 45 minutes, 5.17 seconds\n",
      "Epoch: 26, Train Loss: 0.6864, Train Accuracy: 54.77%, Validation Loss: 0.6863, Validation Accuracy: 54.85%\n",
      "Total Time Passed: 0 hours, 46 minutes, 48.51 seconds\n",
      "Epoch: 27, Train Loss: 0.6863, Train Accuracy: 54.79%, Validation Loss: 0.6862, Validation Accuracy: 54.91%\n",
      "Total Time Passed: 0 hours, 48 minutes, 31.85 seconds\n",
      "Epoch: 28, Train Loss: 0.6862, Train Accuracy: 54.80%, Validation Loss: 0.6861, Validation Accuracy: 54.87%\n",
      "Total Time Passed: 0 hours, 50 minutes, 15.59 seconds\n",
      "Epoch: 29, Train Loss: 0.6860, Train Accuracy: 54.86%, Validation Loss: 0.6860, Validation Accuracy: 54.70%\n",
      "Total Time Passed: 0 hours, 51 minutes, 58.86 seconds\n",
      "Epoch: 30, Train Loss: 0.6859, Train Accuracy: 54.96%, Validation Loss: 0.6859, Validation Accuracy: 54.84%\n",
      "Total Time Passed: 0 hours, 53 minutes, 42.12 seconds\n",
      "Epoch: 31, Train Loss: 0.6858, Train Accuracy: 54.93%, Validation Loss: 0.6858, Validation Accuracy: 54.76%\n",
      "Total Time Passed: 0 hours, 55 minutes, 25.49 seconds\n",
      "Epoch: 32, Train Loss: 0.6857, Train Accuracy: 54.98%, Validation Loss: 0.6857, Validation Accuracy: 54.81%\n",
      "Total Time Passed: 0 hours, 57 minutes, 9.05 seconds\n",
      "Epoch: 33, Train Loss: 0.6856, Train Accuracy: 54.99%, Validation Loss: 0.6856, Validation Accuracy: 54.91%\n",
      "Total Time Passed: 0 hours, 58 minutes, 52.65 seconds\n",
      "Epoch: 34, Train Loss: 0.6855, Train Accuracy: 55.08%, Validation Loss: 0.6855, Validation Accuracy: 54.87%\n",
      "Total Time Passed: 1 hours, 0 minutes, 35.92 seconds\n",
      "Epoch: 35, Train Loss: 0.6853, Train Accuracy: 55.12%, Validation Loss: 0.6854, Validation Accuracy: 54.93%\n",
      "Total Time Passed: 1 hours, 2 minutes, 19.24 seconds\n",
      "Epoch: 36, Train Loss: 0.6852, Train Accuracy: 55.13%, Validation Loss: 0.6853, Validation Accuracy: 54.92%\n",
      "Total Time Passed: 1 hours, 4 minutes, 2.52 seconds\n",
      "Epoch: 37, Train Loss: 0.6851, Train Accuracy: 55.16%, Validation Loss: 0.6852, Validation Accuracy: 54.99%\n",
      "Total Time Passed: 1 hours, 5 minutes, 46.08 seconds\n",
      "Epoch: 38, Train Loss: 0.6850, Train Accuracy: 55.17%, Validation Loss: 0.6851, Validation Accuracy: 54.96%\n",
      "Total Time Passed: 1 hours, 7 minutes, 29.31 seconds\n",
      "Epoch: 39, Train Loss: 0.6849, Train Accuracy: 55.27%, Validation Loss: 0.6850, Validation Accuracy: 55.01%\n",
      "Total Time Passed: 1 hours, 9 minutes, 12.60 seconds\n",
      "Epoch: 40, Train Loss: 0.6848, Train Accuracy: 55.27%, Validation Loss: 0.6849, Validation Accuracy: 55.04%\n",
      "Total Time Passed: 1 hours, 10 minutes, 56.03 seconds\n",
      "Epoch: 41, Train Loss: 0.6847, Train Accuracy: 55.33%, Validation Loss: 0.6848, Validation Accuracy: 55.10%\n",
      "Total Time Passed: 1 hours, 12 minutes, 39.31 seconds\n",
      "Epoch: 42, Train Loss: 0.6845, Train Accuracy: 55.37%, Validation Loss: 0.6847, Validation Accuracy: 55.11%\n",
      "Total Time Passed: 1 hours, 14 minutes, 22.67 seconds\n",
      "Epoch: 43, Train Loss: 0.6844, Train Accuracy: 55.40%, Validation Loss: 0.6847, Validation Accuracy: 55.05%\n",
      "Total Time Passed: 1 hours, 16 minutes, 5.89 seconds\n",
      "Epoch: 44, Train Loss: 0.6843, Train Accuracy: 55.40%, Validation Loss: 0.6845, Validation Accuracy: 55.13%\n",
      "Total Time Passed: 1 hours, 17 minutes, 49.12 seconds\n",
      "Epoch: 45, Train Loss: 0.6842, Train Accuracy: 55.44%, Validation Loss: 0.6845, Validation Accuracy: 55.11%\n",
      "Total Time Passed: 1 hours, 19 minutes, 32.37 seconds\n",
      "Epoch: 46, Train Loss: 0.6841, Train Accuracy: 55.48%, Validation Loss: 0.6843, Validation Accuracy: 55.18%\n",
      "Total Time Passed: 1 hours, 21 minutes, 15.75 seconds\n",
      "Epoch: 47, Train Loss: 0.6840, Train Accuracy: 55.51%, Validation Loss: 0.6843, Validation Accuracy: 55.21%\n",
      "Total Time Passed: 1 hours, 22 minutes, 59.12 seconds\n",
      "Epoch: 48, Train Loss: 0.6838, Train Accuracy: 55.55%, Validation Loss: 0.6842, Validation Accuracy: 55.23%\n",
      "Total Time Passed: 1 hours, 24 minutes, 43.19 seconds\n",
      "Epoch: 49, Train Loss: 0.6837, Train Accuracy: 55.58%, Validation Loss: 0.6841, Validation Accuracy: 55.28%\n",
      "Total Time Passed: 1 hours, 26 minutes, 26.60 seconds\n",
      "Epoch: 50, Train Loss: 0.6836, Train Accuracy: 55.63%, Validation Loss: 0.6840, Validation Accuracy: 55.25%\n",
      "Total Time Passed: 1 hours, 28 minutes, 9.53 seconds\n",
      "Epoch: 51, Train Loss: 0.6835, Train Accuracy: 55.62%, Validation Loss: 0.6839, Validation Accuracy: 55.30%\n"
     ]
    },
    {
     "name": "stdout",
     "output_type": "stream",
     "text": [
      "Total Time Passed: 1 hours, 29 minutes, 52.80 seconds\n",
      "Epoch: 52, Train Loss: 0.6833, Train Accuracy: 55.64%, Validation Loss: 0.6837, Validation Accuracy: 55.42%\n",
      "Total Time Passed: 1 hours, 31 minutes, 36.11 seconds\n",
      "Epoch: 53, Train Loss: 0.6832, Train Accuracy: 55.72%, Validation Loss: 0.6837, Validation Accuracy: 55.35%\n",
      "Total Time Passed: 1 hours, 33 minutes, 19.30 seconds\n",
      "Epoch: 54, Train Loss: 0.6831, Train Accuracy: 55.69%, Validation Loss: 0.6836, Validation Accuracy: 55.32%\n",
      "Total Time Passed: 1 hours, 35 minutes, 2.63 seconds\n",
      "Epoch: 55, Train Loss: 0.6830, Train Accuracy: 55.77%, Validation Loss: 0.6835, Validation Accuracy: 55.29%\n",
      "Total Time Passed: 1 hours, 36 minutes, 45.89 seconds\n",
      "Epoch: 56, Train Loss: 0.6829, Train Accuracy: 55.80%, Validation Loss: 0.6834, Validation Accuracy: 55.38%\n",
      "Total Time Passed: 1 hours, 38 minutes, 30.15 seconds\n",
      "Epoch: 57, Train Loss: 0.6827, Train Accuracy: 55.83%, Validation Loss: 0.6833, Validation Accuracy: 55.28%\n",
      "Total Time Passed: 1 hours, 40 minutes, 13.61 seconds\n",
      "Epoch: 58, Train Loss: 0.6826, Train Accuracy: 55.85%, Validation Loss: 0.6832, Validation Accuracy: 55.41%\n",
      "Total Time Passed: 1 hours, 41 minutes, 56.85 seconds\n",
      "Epoch: 59, Train Loss: 0.6825, Train Accuracy: 55.93%, Validation Loss: 0.6831, Validation Accuracy: 55.58%\n",
      "Total Time Passed: 1 hours, 43 minutes, 40.07 seconds\n",
      "Epoch: 60, Train Loss: 0.6824, Train Accuracy: 55.93%, Validation Loss: 0.6830, Validation Accuracy: 55.51%\n",
      "Total Time Passed: 1 hours, 45 minutes, 23.39 seconds\n",
      "Epoch: 61, Train Loss: 0.6822, Train Accuracy: 55.98%, Validation Loss: 0.6829, Validation Accuracy: 55.40%\n",
      "Total Time Passed: 1 hours, 47 minutes, 6.79 seconds\n",
      "Epoch: 62, Train Loss: 0.6821, Train Accuracy: 55.96%, Validation Loss: 0.6828, Validation Accuracy: 55.55%\n",
      "Total Time Passed: 1 hours, 48 minutes, 50.10 seconds\n",
      "Epoch: 63, Train Loss: 0.6820, Train Accuracy: 56.05%, Validation Loss: 0.6827, Validation Accuracy: 55.45%\n",
      "Total Time Passed: 1 hours, 50 minutes, 33.44 seconds\n",
      "Epoch: 64, Train Loss: 0.6818, Train Accuracy: 56.03%, Validation Loss: 0.6826, Validation Accuracy: 55.42%\n",
      "Total Time Passed: 1 hours, 52 minutes, 16.54 seconds\n",
      "Epoch: 65, Train Loss: 0.6817, Train Accuracy: 56.10%, Validation Loss: 0.6825, Validation Accuracy: 55.44%\n",
      "Total Time Passed: 1 hours, 53 minutes, 59.72 seconds\n",
      "Epoch: 66, Train Loss: 0.6816, Train Accuracy: 56.22%, Validation Loss: 0.6823, Validation Accuracy: 55.68%\n",
      "Total Time Passed: 1 hours, 55 minutes, 43.55 seconds\n",
      "Epoch: 67, Train Loss: 0.6814, Train Accuracy: 56.25%, Validation Loss: 0.6822, Validation Accuracy: 55.71%\n",
      "Total Time Passed: 1 hours, 57 minutes, 27.34 seconds\n",
      "Epoch: 68, Train Loss: 0.6813, Train Accuracy: 56.25%, Validation Loss: 0.6821, Validation Accuracy: 55.77%\n",
      "Total Time Passed: 1 hours, 59 minutes, 10.61 seconds\n",
      "Epoch: 69, Train Loss: 0.6811, Train Accuracy: 56.28%, Validation Loss: 0.6820, Validation Accuracy: 55.67%\n",
      "Total Time Passed: 2 hours, 0 minutes, 54.09 seconds\n",
      "Epoch: 70, Train Loss: 0.6810, Train Accuracy: 56.33%, Validation Loss: 0.6819, Validation Accuracy: 55.82%\n",
      "Total Time Passed: 2 hours, 2 minutes, 37.29 seconds\n",
      "Epoch: 71, Train Loss: 0.6808, Train Accuracy: 56.39%, Validation Loss: 0.6819, Validation Accuracy: 55.65%\n",
      "Total Time Passed: 2 hours, 4 minutes, 20.41 seconds\n",
      "Epoch: 72, Train Loss: 0.6807, Train Accuracy: 56.40%, Validation Loss: 0.6817, Validation Accuracy: 55.96%\n",
      "Total Time Passed: 2 hours, 6 minutes, 3.73 seconds\n",
      "Epoch: 73, Train Loss: 0.6805, Train Accuracy: 56.44%, Validation Loss: 0.6815, Validation Accuracy: 55.94%\n",
      "Total Time Passed: 2 hours, 7 minutes, 46.90 seconds\n",
      "Epoch: 74, Train Loss: 0.6804, Train Accuracy: 56.43%, Validation Loss: 0.6814, Validation Accuracy: 56.00%\n",
      "Total Time Passed: 2 hours, 9 minutes, 30.26 seconds\n",
      "Epoch: 75, Train Loss: 0.6802, Train Accuracy: 56.47%, Validation Loss: 0.6813, Validation Accuracy: 56.04%\n",
      "Total Time Passed: 2 hours, 11 minutes, 14.02 seconds\n",
      "Epoch: 76, Train Loss: 0.6801, Train Accuracy: 56.58%, Validation Loss: 0.6812, Validation Accuracy: 56.09%\n",
      "Total Time Passed: 2 hours, 12 minutes, 57.16 seconds\n",
      "Epoch: 77, Train Loss: 0.6799, Train Accuracy: 56.56%, Validation Loss: 0.6810, Validation Accuracy: 56.09%\n",
      "Total Time Passed: 2 hours, 14 minutes, 40.21 seconds\n",
      "Epoch: 78, Train Loss: 0.6798, Train Accuracy: 56.58%, Validation Loss: 0.6809, Validation Accuracy: 56.13%\n",
      "Total Time Passed: 2 hours, 16 minutes, 23.56 seconds\n",
      "Epoch: 79, Train Loss: 0.6796, Train Accuracy: 56.67%, Validation Loss: 0.6808, Validation Accuracy: 56.06%\n",
      "Total Time Passed: 2 hours, 18 minutes, 6.85 seconds\n",
      "Epoch: 80, Train Loss: 0.6794, Train Accuracy: 56.69%, Validation Loss: 0.6807, Validation Accuracy: 56.22%\n",
      "Total Time Passed: 2 hours, 19 minutes, 50.05 seconds\n",
      "Epoch: 81, Train Loss: 0.6792, Train Accuracy: 56.75%, Validation Loss: 0.6805, Validation Accuracy: 56.34%\n",
      "Total Time Passed: 2 hours, 21 minutes, 33.37 seconds\n",
      "Epoch: 82, Train Loss: 0.6791, Train Accuracy: 56.81%, Validation Loss: 0.6804, Validation Accuracy: 56.28%\n",
      "Total Time Passed: 2 hours, 23 minutes, 16.63 seconds\n",
      "Epoch: 83, Train Loss: 0.6789, Train Accuracy: 56.85%, Validation Loss: 0.6802, Validation Accuracy: 56.35%\n",
      "Total Time Passed: 2 hours, 25 minutes, 2.03 seconds\n",
      "Epoch: 84, Train Loss: 0.6787, Train Accuracy: 56.91%, Validation Loss: 0.6803, Validation Accuracy: 56.05%\n",
      "Total Time Passed: 2 hours, 26 minutes, 45.35 seconds\n",
      "Epoch: 85, Train Loss: 0.6785, Train Accuracy: 56.91%, Validation Loss: 0.6799, Validation Accuracy: 56.37%\n",
      "Total Time Passed: 2 hours, 28 minutes, 28.85 seconds\n",
      "Epoch: 86, Train Loss: 0.6783, Train Accuracy: 56.99%, Validation Loss: 0.6800, Validation Accuracy: 56.17%\n",
      "Total Time Passed: 2 hours, 30 minutes, 12.10 seconds\n",
      "Epoch: 87, Train Loss: 0.6781, Train Accuracy: 57.00%, Validation Loss: 0.6796, Validation Accuracy: 56.43%\n",
      "Total Time Passed: 2 hours, 31 minutes, 55.21 seconds\n",
      "Epoch: 88, Train Loss: 0.6779, Train Accuracy: 57.05%, Validation Loss: 0.6794, Validation Accuracy: 56.50%\n",
      "Total Time Passed: 2 hours, 33 minutes, 38.56 seconds\n",
      "Epoch: 89, Train Loss: 0.6777, Train Accuracy: 57.06%, Validation Loss: 0.6793, Validation Accuracy: 56.53%\n",
      "Total Time Passed: 2 hours, 35 minutes, 21.72 seconds\n",
      "Epoch: 90, Train Loss: 0.6775, Train Accuracy: 57.14%, Validation Loss: 0.6791, Validation Accuracy: 56.51%\n",
      "Total Time Passed: 2 hours, 37 minutes, 5.05 seconds\n",
      "Epoch: 91, Train Loss: 0.6773, Train Accuracy: 57.17%, Validation Loss: 0.6789, Validation Accuracy: 56.59%\n",
      "Total Time Passed: 2 hours, 38 minutes, 48.41 seconds\n",
      "Epoch: 92, Train Loss: 0.6771, Train Accuracy: 57.28%, Validation Loss: 0.6788, Validation Accuracy: 56.62%\n",
      "Total Time Passed: 2 hours, 40 minutes, 31.66 seconds\n",
      "Epoch: 93, Train Loss: 0.6768, Train Accuracy: 57.33%, Validation Loss: 0.6786, Validation Accuracy: 56.77%\n",
      "Total Time Passed: 2 hours, 42 minutes, 14.72 seconds\n",
      "Epoch: 94, Train Loss: 0.6766, Train Accuracy: 57.35%, Validation Loss: 0.6785, Validation Accuracy: 56.80%\n",
      "Total Time Passed: 2 hours, 43 minutes, 58.61 seconds\n",
      "Epoch: 95, Train Loss: 0.6764, Train Accuracy: 57.35%, Validation Loss: 0.6782, Validation Accuracy: 56.91%\n",
      "Total Time Passed: 2 hours, 45 minutes, 49.37 seconds\n",
      "Epoch: 96, Train Loss: 0.6761, Train Accuracy: 57.45%, Validation Loss: 0.6780, Validation Accuracy: 56.95%\n",
      "Total Time Passed: 2 hours, 47 minutes, 33.35 seconds\n",
      "Epoch: 97, Train Loss: 0.6759, Train Accuracy: 57.50%, Validation Loss: 0.6778, Validation Accuracy: 57.05%\n",
      "Total Time Passed: 2 hours, 49 minutes, 16.48 seconds\n",
      "Epoch: 98, Train Loss: 0.6756, Train Accuracy: 57.53%, Validation Loss: 0.6776, Validation Accuracy: 57.08%\n",
      "Total Time Passed: 2 hours, 50 minutes, 59.93 seconds\n",
      "Epoch: 99, Train Loss: 0.6753, Train Accuracy: 57.60%, Validation Loss: 0.6773, Validation Accuracy: 57.13%\n",
      "Total Time Passed: 2 hours, 52 minutes, 43.40 seconds\n",
      "Epoch: 100, Train Loss: 0.6751, Train Accuracy: 57.71%, Validation Loss: 0.6770, Validation Accuracy: 57.26%\n",
      "Total Time Passed: 2 hours, 54 minutes, 26.70 seconds\n"
     ]
    }
   ],
   "source": [
    "no_epochs = 100\n",
    "#import ipdb; ipdb.set_trace() # debugging starts here\n",
    "train_accuracies = []\n",
    "validation_accuracies = []\n",
    "init_time = datetime.datetime.now()\n",
    "for epoch in range(no_epochs):\n",
    "    train_loss, train_accuracy = train(grumodel, train_iter, optimizer, loss_fn)\n",
    "    validation_loss, validation_accuracy = evaluate(grumodel, validation_iter, loss_fn)\n",
    "    train_accuracies.append(train_accuracy)\n",
    "    validation_accuracies.append(validation_accuracy)\n",
    "    current_time = datetime.datetime.now()\n",
    "    total_time = (current_time-init_time).total_seconds()\n",
    "    print(f'Epoch: {epoch+1:02}, Train Loss: {train_loss:.4f}, Train Accuracy: {train_accuracy*100:.2f}%, ' +  \n",
    "          f'Validation Loss: {validation_loss:.4f}, Validation Accuracy: {validation_accuracy*100:.2f}%')\n",
    "    print(f'Total Time Passed: {floor(total_time/3600)} hours, {floor(total_time/60)%60} minutes, {total_time%60:.2f} seconds')"
   ]
  },
  {
   "cell_type": "code",
   "execution_count": 31,
   "metadata": {},
   "outputs": [
    {
     "name": "stderr",
     "output_type": "stream",
     "text": [
      "E:\\Programs\\Installed_Programs\\Anaconda3\\lib\\site-packages\\torchtext\\data\\field.py:321: UserWarning: volatile was removed and now has no effect. Use `with torch.no_grad():` instead.\n",
      "  return Variable(arr, volatile=not train), lengths\n",
      "E:\\Programs\\Installed_Programs\\Anaconda3\\lib\\site-packages\\torchtext\\data\\field.py:322: UserWarning: volatile was removed and now has no effect. Use `with torch.no_grad():` instead.\n",
      "  return Variable(arr, volatile=not train)\n"
     ]
    },
    {
     "name": "stdout",
     "output_type": "stream",
     "text": [
      "Test Loss: 0.6766, Test Accuracy: 57.04%\n"
     ]
    }
   ],
   "source": [
    "test_loss, test_accuracy = evaluate(grumodel, test_iter, loss_fn)\n",
    "\n",
    "print(f'Test Loss: {test_loss:.4f}, Test Accuracy: {test_accuracy*100:.2f}%')"
   ]
  },
  {
   "cell_type": "code",
   "execution_count": 52,
   "metadata": {},
   "outputs": [
    {
     "data": {
      "image/png": "[encoded data removed]",
      "text/plain": [
       "<Figure size 432x288 with 1 Axes>"
      ]
     },
     "metadata": {},
     "output_type": "display_data"
    }
   ],
   "source": [
    "import matplotlib.pyplot as plt\n",
    "\n",
    "plt.plot(range(1,no_epochs+1),train_accuracies)\n",
    "plt.show()"
   ]
  },
  {
   "cell_type": "code",
   "execution_count": null,
   "metadata": {},
   "outputs": [],
   "source": []
  }
 ],
 "metadata": {
  "kernelspec": {
   "display_name": "Python 3",
   "language": "python",
   "name": "python3"
  },
  "language_info": {
   "codemirror_mode": {
    "name": "ipython",
    "version": 3
   },
   "file_extension": ".py",
   "mimetype": "text/x-python",
   "name": "python",
   "nbconvert_exporter": "python",
   "pygments_lexer": "ipython3",
   "version": "3.6.5"
  }
 },
 "nbformat": 4,
 "nbformat_minor": 2
}
