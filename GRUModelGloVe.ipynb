{
 "cells": [
  {
   "cell_type": "code",
   "execution_count": 1,
   "metadata": {},
   "outputs": [],
   "source": [
    "from torchtext import data\n",
    "import torch\n",
    "import torch.nn as nn\n",
    "import torch.optim as optim\n",
    "import random\n",
    "import datetime\n",
    "from math import floor\n",
    "\n",
    "seed = 1\n",
    "torch.manual_seed(seed)\n",
    "device = torch.device('cuda')\n",
    "iterator_device = 0\n",
    "##uncomment for cpu\n",
    "#device = torch.device('cpu')\n",
    "#iterator_device = -1"
   ]
  },
  {
   "cell_type": "code",
   "execution_count": 2,
   "metadata": {},
   "outputs": [],
   "source": [
    "blurb_field = data.Field(sequential=True, use_vocab=True, lower=True, tokenize=\"spacy\", include_lengths=True)\n",
    "state_field = data.LabelField(sequential=False, use_vocab=False, tensor_type=torch.FloatTensor,\n",
    "                              preprocessing=lambda x:1 if x=='successful' else 0)\n",
    "dataset = data.TabularDataset(path='df_text_eng.csv',format='csv',skip_header=True,fields=[('Unnamed: 0', None),('blurb', blurb_field),('state', state_field)])"
   ]
  },
  {
   "cell_type": "code",
   "execution_count": 3,
   "metadata": {},
   "outputs": [
    {
     "name": "stdout",
     "output_type": "stream",
     "text": [
      "Training Set Size:  150859\n",
      "Test Set Size:  32327\n",
      "Validation Set Size:  32327\n"
     ]
    }
   ],
   "source": [
    "train, test, validation = dataset.split(random_state=random.seed(seed), split_ratio=[70,15,15])\n",
    "print(\"Training Set Size: \", len(train))\n",
    "print(\"Test Set Size: \", len(test))\n",
    "print(\"Validation Set Size: \", len(validation))"
   ]
  },
  {
   "cell_type": "code",
   "execution_count": 4,
   "metadata": {},
   "outputs": [
    {
     "name": "stdout",
     "output_type": "stream",
     "text": [
      "Vocabulary size used:  28760\n"
     ]
    }
   ],
   "source": [
    "##randomly\n",
    "#words that appear less than 3 times (2 or less) will be considered unknown words with tag \"<unk>\", \n",
    "#they will have the same word embedding\n",
    "#vocabulary of the training set will only be used to emulate real world situtaions when the test set is unknown\n",
    "blurb_field.build_vocab(train,min_freq=3,vectors=\"glove.6B.100d\")\n",
    "print(\"Vocabulary size used: \",len(blurb_field.vocab))"
   ]
  },
  {
   "cell_type": "code",
   "execution_count": 16,
   "metadata": {},
   "outputs": [],
   "source": [
    "batch_size = 64\n",
    "\n",
    "train_iter = data.BucketIterator(dataset=train, batch_size=batch_size, sort_key=lambda x:len(x.blurb),device=iterator_device,\n",
    "                                repeat=False, train=True, sort_within_batch=True)\n",
    "test_iter = data.BucketIterator(dataset=test, batch_size=batch_size, sort_key=lambda x:len(x.blurb),device=iterator_device,\n",
    "                                train=False, sort_within_batch=True)\n",
    "validation_iter = data.BucketIterator(dataset=validation, batch_size=batch_size, sort_key=lambda x:len(x.blurb),device=iterator_device,\n",
    "                                      train=False, sort_within_batch=True)"
   ]
  },
  {
   "cell_type": "code",
   "execution_count": 34,
   "metadata": {},
   "outputs": [],
   "source": [
    "class GRUNet(nn.Module):\n",
    "    def __init__(self, vocab_size, embed_size, hidden_size, output_size, padding_idx=None, init_embedding=None):\n",
    "        super(GRUNet, self).__init__()\n",
    "        if (init_embedding is not None):\n",
    "            self.embedding = nn.Embedding(vocab_size, embed_size, padding_idx=padding_idx, _weight=init_embedding)    # word embedding\n",
    "        else:\n",
    "            self.embedding = nn.Embedding(vocab_size, embed_size, padding_idx=padding_idx)    # word embedding\n",
    "        self.gru = nn.GRU(embed_size, hidden_size)  #GRU layer, default activation function is tanh\n",
    "        self.out = nn.Linear(hidden_size, output_size)   # output layer (Fully Connected)\n",
    "        \n",
    "\n",
    "    def forward(self, x, x_lengths):\n",
    "        #x -> [sentence length(max, smaller sentences are padded), minibatch size]\n",
    "        embeds = self.embedding(x)\n",
    "        \n",
    "        #embeds -> [sentence length, minibatch size, embedding size]\n",
    "        embeds = nn.utils.rnn.pack_padded_sequence(embeds,x_lengths)\n",
    "        all_hiddens, last_hidden = self.gru(embeds)      # activation function for hidden layer\n",
    "        #the first dimension of the hidden layer is 1 (we use one hidden layer uniderectional GRUs), squeeze removes it to be \n",
    "        #able to enter the fully connected layer with dimensions [batch size, hidden size]\n",
    "        score = self.out(last_hidden.squeeze(0))           \n",
    "        return score"
   ]
  },
  {
   "cell_type": "code",
   "execution_count": 35,
   "metadata": {},
   "outputs": [],
   "source": [
    "def calc_accuracy(predictions, y):\n",
    "    predictions = torch.round(torch.sigmoid(predictions))\n",
    "    correct = (sum(predictions == y)).float()\n",
    "    accuracy = correct/len(predictions)\n",
    "    return accuracy"
   ]
  },
  {
   "cell_type": "code",
   "execution_count": 36,
   "metadata": {},
   "outputs": [],
   "source": [
    "padding_idx = blurb_field.vocab.stoi['<pad>']\n",
    "embed_size = 100\n",
    "hidden_size = 100"
   ]
  },
  {
   "cell_type": "code",
   "execution_count": 37,
   "metadata": {},
   "outputs": [],
   "source": [
    "grumodel = GRUNet(len(blurb_field.vocab),embed_size,hidden_size,1, padding_idx=padding_idx, init_embedding=blurb_field.vocab.vectors)\n",
    "optimizer = optim.SGD(grumodel.parameters(), lr=1e-3)\n",
    "loss_fn = nn.BCEWithLogitsLoss()\n",
    "grumodel = grumodel.to(device)\n",
    "loss_fn = loss_fn.to(device)"
   ]
  },
  {
   "cell_type": "code",
   "execution_count": 38,
   "metadata": {},
   "outputs": [],
   "source": [
    "def train(model, iterator, optimizer, loss_fn):\n",
    "    epoch_loss = 0\n",
    "    epoch_accuracy = 0\n",
    "    \n",
    "    model.train()\n",
    "    \n",
    "    for minibatch in iterator:\n",
    "        optimizer.zero_grad()\n",
    "        predictions = model(minibatch.blurb[0],minibatch.blurb[1]).squeeze(1)\n",
    "        loss = loss_fn(predictions, minibatch.state)\n",
    "        accuracy = calc_accuracy(predictions, minibatch.state)    \n",
    "        loss.backward()\n",
    "        optimizer.step()\n",
    "        \n",
    "        epoch_loss += loss.item()\n",
    "        epoch_accuracy += accuracy.item()\n",
    "        \n",
    "    return epoch_loss / len(iterator), epoch_accuracy / len(iterator)"
   ]
  },
  {
   "cell_type": "code",
   "execution_count": 39,
   "metadata": {},
   "outputs": [],
   "source": [
    "def evaluate(model, iterator, loss_fn):\n",
    "    epoch_loss = 0\n",
    "    epoch_accuracy = 0\n",
    "    \n",
    "    model.eval()\n",
    "    \n",
    "    with torch.no_grad():\n",
    "        for minibatch in iterator:\n",
    "            predictions = model(minibatch.blurb[0],minibatch.blurb[1]).squeeze(1)\n",
    "            loss = loss_fn(predictions, minibatch.state)\n",
    "            accuracy = calc_accuracy(predictions, minibatch.state)    \n",
    "\n",
    "            epoch_loss += loss.item()\n",
    "            epoch_accuracy += accuracy.item()\n",
    "        \n",
    "    return epoch_loss / len(iterator), epoch_accuracy / len(iterator)"
   ]
  },
  {
   "cell_type": "code",
   "execution_count": 40,
   "metadata": {
    "scrolled": true
   },
   "outputs": [
    {
     "name": "stderr",
     "output_type": "stream",
     "text": [
      "/home/ubuntu/anaconda3/envs/pytorch_p36/lib/python3.6/site-packages/torchtext/data/field.py:321: UserWarning: volatile was removed and now has no effect. Use `with torch.no_grad():` instead.\n",
      "  return Variable(arr, volatile=not train), lengths\n",
      "/home/ubuntu/anaconda3/envs/pytorch_p36/lib/python3.6/site-packages/torchtext/data/field.py:322: UserWarning: volatile was removed and now has no effect. Use `with torch.no_grad():` instead.\n",
      "  return Variable(arr, volatile=not train)\n"
     ]
    },
    {
     "name": "stdout",
     "output_type": "stream",
     "text": [
      "Epoch: 01, Train Loss: 0.6932, Train Accuracy: 50.61%, Validation Loss: 0.6920, Validation Accuracy: 52.60%\n",
      "Total Time Passed: 0 hours, 0 minutes, 22.08 seconds\n",
      "Epoch: 02, Train Loss: 0.6915, Train Accuracy: 52.76%, Validation Loss: 0.6904, Validation Accuracy: 54.45%\n",
      "Total Time Passed: 0 hours, 0 minutes, 44.10 seconds\n",
      "Epoch: 03, Train Loss: 0.6901, Train Accuracy: 54.15%, Validation Loss: 0.6889, Validation Accuracy: 54.98%\n",
      "Total Time Passed: 0 hours, 1 minutes, 6.10 seconds\n",
      "Epoch: 04, Train Loss: 0.6889, Train Accuracy: 54.82%, Validation Loss: 0.6877, Validation Accuracy: 55.82%\n",
      "Total Time Passed: 0 hours, 1 minutes, 28.00 seconds\n",
      "Epoch: 05, Train Loss: 0.6878, Train Accuracy: 55.41%, Validation Loss: 0.6865, Validation Accuracy: 56.16%\n",
      "Total Time Passed: 0 hours, 1 minutes, 49.93 seconds\n",
      "Epoch: 06, Train Loss: 0.6868, Train Accuracy: 55.67%, Validation Loss: 0.6854, Validation Accuracy: 56.46%\n",
      "Total Time Passed: 0 hours, 2 minutes, 11.77 seconds\n",
      "Epoch: 07, Train Loss: 0.6858, Train Accuracy: 55.94%, Validation Loss: 0.6844, Validation Accuracy: 56.65%\n",
      "Total Time Passed: 0 hours, 2 minutes, 33.87 seconds\n",
      "Epoch: 08, Train Loss: 0.6849, Train Accuracy: 55.97%, Validation Loss: 0.6835, Validation Accuracy: 56.68%\n",
      "Total Time Passed: 0 hours, 2 minutes, 55.46 seconds\n",
      "Epoch: 09, Train Loss: 0.6841, Train Accuracy: 56.07%, Validation Loss: 0.6826, Validation Accuracy: 56.69%\n",
      "Total Time Passed: 0 hours, 3 minutes, 17.10 seconds\n",
      "Epoch: 10, Train Loss: 0.6833, Train Accuracy: 56.17%, Validation Loss: 0.6818, Validation Accuracy: 56.84%\n",
      "Total Time Passed: 0 hours, 3 minutes, 38.80 seconds\n",
      "Epoch: 11, Train Loss: 0.6826, Train Accuracy: 56.24%, Validation Loss: 0.6811, Validation Accuracy: 56.85%\n",
      "Total Time Passed: 0 hours, 4 minutes, 0.47 seconds\n",
      "Epoch: 12, Train Loss: 0.6819, Train Accuracy: 56.38%, Validation Loss: 0.6804, Validation Accuracy: 56.99%\n",
      "Total Time Passed: 0 hours, 4 minutes, 21.99 seconds\n",
      "Epoch: 13, Train Loss: 0.6814, Train Accuracy: 56.36%, Validation Loss: 0.6798, Validation Accuracy: 57.20%\n",
      "Total Time Passed: 0 hours, 4 minutes, 43.50 seconds\n",
      "Epoch: 14, Train Loss: 0.6808, Train Accuracy: 56.45%, Validation Loss: 0.6793, Validation Accuracy: 57.05%\n",
      "Total Time Passed: 0 hours, 5 minutes, 5.10 seconds\n",
      "Epoch: 15, Train Loss: 0.6803, Train Accuracy: 56.47%, Validation Loss: 0.6787, Validation Accuracy: 57.20%\n",
      "Total Time Passed: 0 hours, 5 minutes, 26.17 seconds\n",
      "Epoch: 16, Train Loss: 0.6798, Train Accuracy: 56.58%, Validation Loss: 0.6783, Validation Accuracy: 57.20%\n",
      "Total Time Passed: 0 hours, 5 minutes, 47.05 seconds\n",
      "Epoch: 17, Train Loss: 0.6794, Train Accuracy: 56.66%, Validation Loss: 0.6779, Validation Accuracy: 57.24%\n",
      "Total Time Passed: 0 hours, 6 minutes, 7.91 seconds\n",
      "Epoch: 18, Train Loss: 0.6790, Train Accuracy: 56.70%, Validation Loss: 0.6774, Validation Accuracy: 57.24%\n",
      "Total Time Passed: 0 hours, 6 minutes, 28.82 seconds\n",
      "Epoch: 19, Train Loss: 0.6787, Train Accuracy: 56.80%, Validation Loss: 0.6770, Validation Accuracy: 57.27%\n",
      "Total Time Passed: 0 hours, 6 minutes, 49.68 seconds\n",
      "Epoch: 20, Train Loss: 0.6783, Train Accuracy: 56.85%, Validation Loss: 0.6766, Validation Accuracy: 57.31%\n",
      "Total Time Passed: 0 hours, 7 minutes, 10.41 seconds\n",
      "Epoch: 21, Train Loss: 0.6780, Train Accuracy: 56.94%, Validation Loss: 0.6763, Validation Accuracy: 57.28%\n",
      "Total Time Passed: 0 hours, 7 minutes, 31.34 seconds\n",
      "Epoch: 22, Train Loss: 0.6776, Train Accuracy: 57.00%, Validation Loss: 0.6759, Validation Accuracy: 57.40%\n",
      "Total Time Passed: 0 hours, 7 minutes, 52.22 seconds\n",
      "Epoch: 23, Train Loss: 0.6773, Train Accuracy: 57.04%, Validation Loss: 0.6756, Validation Accuracy: 57.42%\n",
      "Total Time Passed: 0 hours, 8 minutes, 13.07 seconds\n",
      "Epoch: 24, Train Loss: 0.6770, Train Accuracy: 57.09%, Validation Loss: 0.6752, Validation Accuracy: 57.50%\n",
      "Total Time Passed: 0 hours, 8 minutes, 33.96 seconds\n",
      "Epoch: 25, Train Loss: 0.6767, Train Accuracy: 57.12%, Validation Loss: 0.6750, Validation Accuracy: 57.63%\n",
      "Total Time Passed: 0 hours, 8 minutes, 54.87 seconds\n",
      "Epoch: 26, Train Loss: 0.6763, Train Accuracy: 57.26%, Validation Loss: 0.6746, Validation Accuracy: 57.66%\n",
      "Total Time Passed: 0 hours, 9 minutes, 15.69 seconds\n",
      "Epoch: 27, Train Loss: 0.6760, Train Accuracy: 57.31%, Validation Loss: 0.6742, Validation Accuracy: 57.69%\n",
      "Total Time Passed: 0 hours, 9 minutes, 36.57 seconds\n",
      "Epoch: 28, Train Loss: 0.6757, Train Accuracy: 57.35%, Validation Loss: 0.6738, Validation Accuracy: 57.77%\n",
      "Total Time Passed: 0 hours, 9 minutes, 57.44 seconds\n",
      "Epoch: 29, Train Loss: 0.6753, Train Accuracy: 57.41%, Validation Loss: 0.6735, Validation Accuracy: 57.92%\n",
      "Total Time Passed: 0 hours, 10 minutes, 18.39 seconds\n",
      "Epoch: 30, Train Loss: 0.6750, Train Accuracy: 57.49%, Validation Loss: 0.6732, Validation Accuracy: 57.91%\n",
      "Total Time Passed: 0 hours, 10 minutes, 39.29 seconds\n",
      "Epoch: 31, Train Loss: 0.6746, Train Accuracy: 57.53%, Validation Loss: 0.6727, Validation Accuracy: 58.06%\n",
      "Total Time Passed: 0 hours, 11 minutes, 0.24 seconds\n",
      "Epoch: 32, Train Loss: 0.6743, Train Accuracy: 57.63%, Validation Loss: 0.6724, Validation Accuracy: 58.10%\n",
      "Total Time Passed: 0 hours, 11 minutes, 21.12 seconds\n",
      "Epoch: 33, Train Loss: 0.6739, Train Accuracy: 57.74%, Validation Loss: 0.6720, Validation Accuracy: 58.14%\n",
      "Total Time Passed: 0 hours, 11 minutes, 41.92 seconds\n",
      "Epoch: 34, Train Loss: 0.6735, Train Accuracy: 57.85%, Validation Loss: 0.6715, Validation Accuracy: 58.21%\n",
      "Total Time Passed: 0 hours, 12 minutes, 2.66 seconds\n",
      "Epoch: 35, Train Loss: 0.6731, Train Accuracy: 57.93%, Validation Loss: 0.6712, Validation Accuracy: 58.34%\n",
      "Total Time Passed: 0 hours, 12 minutes, 23.71 seconds\n",
      "Epoch: 36, Train Loss: 0.6727, Train Accuracy: 57.98%, Validation Loss: 0.6707, Validation Accuracy: 58.38%\n",
      "Total Time Passed: 0 hours, 12 minutes, 44.66 seconds\n",
      "Epoch: 37, Train Loss: 0.6722, Train Accuracy: 58.05%, Validation Loss: 0.6703, Validation Accuracy: 58.43%\n",
      "Total Time Passed: 0 hours, 13 minutes, 5.56 seconds\n",
      "Epoch: 38, Train Loss: 0.6718, Train Accuracy: 58.15%, Validation Loss: 0.6697, Validation Accuracy: 58.52%\n",
      "Total Time Passed: 0 hours, 13 minutes, 26.53 seconds\n",
      "Epoch: 39, Train Loss: 0.6712, Train Accuracy: 58.36%, Validation Loss: 0.6692, Validation Accuracy: 58.61%\n",
      "Total Time Passed: 0 hours, 13 minutes, 47.44 seconds\n",
      "Epoch: 40, Train Loss: 0.6707, Train Accuracy: 58.45%, Validation Loss: 0.6686, Validation Accuracy: 58.81%\n",
      "Total Time Passed: 0 hours, 14 minutes, 8.37 seconds\n",
      "Epoch: 41, Train Loss: 0.6701, Train Accuracy: 58.49%, Validation Loss: 0.6680, Validation Accuracy: 58.82%\n",
      "Total Time Passed: 0 hours, 14 minutes, 29.20 seconds\n",
      "Epoch: 42, Train Loss: 0.6695, Train Accuracy: 58.64%, Validation Loss: 0.6673, Validation Accuracy: 58.94%\n",
      "Total Time Passed: 0 hours, 14 minutes, 50.15 seconds\n",
      "Epoch: 43, Train Loss: 0.6688, Train Accuracy: 58.75%, Validation Loss: 0.6666, Validation Accuracy: 59.02%\n",
      "Total Time Passed: 0 hours, 15 minutes, 11.03 seconds\n",
      "Epoch: 44, Train Loss: 0.6681, Train Accuracy: 58.90%, Validation Loss: 0.6658, Validation Accuracy: 59.33%\n",
      "Total Time Passed: 0 hours, 15 minutes, 32.09 seconds\n",
      "Epoch: 45, Train Loss: 0.6673, Train Accuracy: 59.01%, Validation Loss: 0.6649, Validation Accuracy: 59.46%\n",
      "Total Time Passed: 0 hours, 15 minutes, 53.08 seconds\n",
      "Epoch: 46, Train Loss: 0.6664, Train Accuracy: 59.19%, Validation Loss: 0.6639, Validation Accuracy: 59.59%\n",
      "Total Time Passed: 0 hours, 16 minutes, 13.93 seconds\n",
      "Epoch: 47, Train Loss: 0.6654, Train Accuracy: 59.36%, Validation Loss: 0.6629, Validation Accuracy: 59.84%\n",
      "Total Time Passed: 0 hours, 16 minutes, 34.86 seconds\n",
      "Epoch: 48, Train Loss: 0.6642, Train Accuracy: 59.58%, Validation Loss: 0.6616, Validation Accuracy: 60.11%\n",
      "Total Time Passed: 0 hours, 16 minutes, 55.68 seconds\n",
      "Epoch: 49, Train Loss: 0.6630, Train Accuracy: 59.86%, Validation Loss: 0.6603, Validation Accuracy: 60.25%\n",
      "Total Time Passed: 0 hours, 17 minutes, 16.63 seconds\n",
      "Epoch: 50, Train Loss: 0.6616, Train Accuracy: 60.05%, Validation Loss: 0.6587, Validation Accuracy: 60.57%\n",
      "Total Time Passed: 0 hours, 17 minutes, 37.51 seconds\n",
      "Epoch: 51, Train Loss: 0.6600, Train Accuracy: 60.34%, Validation Loss: 0.6571, Validation Accuracy: 60.81%\n",
      "Total Time Passed: 0 hours, 17 minutes, 58.47 seconds\n"
     ]
    },
    {
     "name": "stdout",
     "output_type": "stream",
     "text": [
      "Epoch: 52, Train Loss: 0.6584, Train Accuracy: 60.62%, Validation Loss: 0.6553, Validation Accuracy: 61.07%\n",
      "Total Time Passed: 0 hours, 18 minutes, 19.43 seconds\n",
      "Epoch: 53, Train Loss: 0.6566, Train Accuracy: 60.92%, Validation Loss: 0.6535, Validation Accuracy: 61.43%\n",
      "Total Time Passed: 0 hours, 18 minutes, 40.37 seconds\n",
      "Epoch: 54, Train Loss: 0.6546, Train Accuracy: 61.22%, Validation Loss: 0.6516, Validation Accuracy: 61.46%\n",
      "Total Time Passed: 0 hours, 19 minutes, 1.10 seconds\n",
      "Epoch: 55, Train Loss: 0.6525, Train Accuracy: 61.52%, Validation Loss: 0.6494, Validation Accuracy: 61.87%\n",
      "Total Time Passed: 0 hours, 19 minutes, 21.95 seconds\n",
      "Epoch: 56, Train Loss: 0.6506, Train Accuracy: 61.82%, Validation Loss: 0.6475, Validation Accuracy: 62.11%\n",
      "Total Time Passed: 0 hours, 19 minutes, 42.93 seconds\n",
      "Epoch: 57, Train Loss: 0.6487, Train Accuracy: 62.07%, Validation Loss: 0.6459, Validation Accuracy: 62.52%\n",
      "Total Time Passed: 0 hours, 20 minutes, 3.77 seconds\n",
      "Epoch: 58, Train Loss: 0.6471, Train Accuracy: 62.32%, Validation Loss: 0.6445, Validation Accuracy: 62.64%\n",
      "Total Time Passed: 0 hours, 20 minutes, 24.71 seconds\n",
      "Epoch: 59, Train Loss: 0.6456, Train Accuracy: 62.50%, Validation Loss: 0.6432, Validation Accuracy: 62.83%\n",
      "Total Time Passed: 0 hours, 20 minutes, 45.66 seconds\n",
      "Epoch: 60, Train Loss: 0.6444, Train Accuracy: 62.62%, Validation Loss: 0.6423, Validation Accuracy: 63.17%\n",
      "Total Time Passed: 0 hours, 21 minutes, 6.54 seconds\n",
      "Epoch: 61, Train Loss: 0.6433, Train Accuracy: 62.80%, Validation Loss: 0.6415, Validation Accuracy: 63.24%\n",
      "Total Time Passed: 0 hours, 21 minutes, 27.49 seconds\n",
      "Epoch: 62, Train Loss: 0.6425, Train Accuracy: 62.88%, Validation Loss: 0.6405, Validation Accuracy: 63.27%\n",
      "Total Time Passed: 0 hours, 21 minutes, 48.27 seconds\n",
      "Epoch: 63, Train Loss: 0.6418, Train Accuracy: 63.01%, Validation Loss: 0.6401, Validation Accuracy: 63.41%\n",
      "Total Time Passed: 0 hours, 22 minutes, 9.19 seconds\n",
      "Epoch: 64, Train Loss: 0.6409, Train Accuracy: 63.07%, Validation Loss: 0.6392, Validation Accuracy: 63.45%\n",
      "Total Time Passed: 0 hours, 22 minutes, 30.08 seconds\n",
      "Epoch: 65, Train Loss: 0.6403, Train Accuracy: 63.19%, Validation Loss: 0.6396, Validation Accuracy: 63.41%\n",
      "Total Time Passed: 0 hours, 22 minutes, 51.07 seconds\n",
      "Epoch: 66, Train Loss: 0.6399, Train Accuracy: 63.22%, Validation Loss: 0.6414, Validation Accuracy: 63.00%\n",
      "Total Time Passed: 0 hours, 23 minutes, 12.04 seconds\n",
      "Epoch: 67, Train Loss: 0.6394, Train Accuracy: 63.31%, Validation Loss: 0.6381, Validation Accuracy: 63.55%\n",
      "Total Time Passed: 0 hours, 23 minutes, 32.91 seconds\n",
      "Epoch: 68, Train Loss: 0.6389, Train Accuracy: 63.31%, Validation Loss: 0.6381, Validation Accuracy: 63.58%\n",
      "Total Time Passed: 0 hours, 23 minutes, 53.82 seconds\n",
      "Epoch: 69, Train Loss: 0.6384, Train Accuracy: 63.48%, Validation Loss: 0.6374, Validation Accuracy: 63.71%\n",
      "Total Time Passed: 0 hours, 24 minutes, 14.68 seconds\n",
      "Epoch: 70, Train Loss: 0.6380, Train Accuracy: 63.47%, Validation Loss: 0.6368, Validation Accuracy: 63.79%\n",
      "Total Time Passed: 0 hours, 24 minutes, 35.70 seconds\n",
      "Epoch: 71, Train Loss: 0.6377, Train Accuracy: 63.57%, Validation Loss: 0.6360, Validation Accuracy: 63.98%\n",
      "Total Time Passed: 0 hours, 24 minutes, 56.64 seconds\n",
      "Epoch: 72, Train Loss: 0.6372, Train Accuracy: 63.57%, Validation Loss: 0.6391, Validation Accuracy: 63.43%\n",
      "Total Time Passed: 0 hours, 25 minutes, 17.62 seconds\n",
      "Epoch: 73, Train Loss: 0.6369, Train Accuracy: 63.60%, Validation Loss: 0.6362, Validation Accuracy: 63.75%\n",
      "Total Time Passed: 0 hours, 25 minutes, 38.48 seconds\n",
      "Epoch: 74, Train Loss: 0.6364, Train Accuracy: 63.64%, Validation Loss: 0.6351, Validation Accuracy: 64.02%\n",
      "Total Time Passed: 0 hours, 25 minutes, 59.30 seconds\n",
      "Epoch: 75, Train Loss: 0.6361, Train Accuracy: 63.77%, Validation Loss: 0.6347, Validation Accuracy: 64.18%\n",
      "Total Time Passed: 0 hours, 26 minutes, 20.22 seconds\n",
      "Epoch: 76, Train Loss: 0.6358, Train Accuracy: 63.75%, Validation Loss: 0.6343, Validation Accuracy: 64.07%\n",
      "Total Time Passed: 0 hours, 26 minutes, 41.04 seconds\n",
      "Epoch: 77, Train Loss: 0.6354, Train Accuracy: 63.80%, Validation Loss: 0.6340, Validation Accuracy: 64.18%\n",
      "Total Time Passed: 0 hours, 27 minutes, 2.01 seconds\n",
      "Epoch: 78, Train Loss: 0.6352, Train Accuracy: 63.80%, Validation Loss: 0.6339, Validation Accuracy: 64.06%\n",
      "Total Time Passed: 0 hours, 27 minutes, 23.04 seconds\n",
      "Epoch: 79, Train Loss: 0.6348, Train Accuracy: 63.88%, Validation Loss: 0.6372, Validation Accuracy: 63.70%\n",
      "Total Time Passed: 0 hours, 27 minutes, 44.07 seconds\n",
      "Epoch: 80, Train Loss: 0.6344, Train Accuracy: 63.91%, Validation Loss: 0.6333, Validation Accuracy: 64.27%\n",
      "Total Time Passed: 0 hours, 28 minutes, 5.06 seconds\n",
      "Epoch: 81, Train Loss: 0.6342, Train Accuracy: 63.96%, Validation Loss: 0.6330, Validation Accuracy: 64.32%\n",
      "Total Time Passed: 0 hours, 28 minutes, 26.00 seconds\n",
      "Epoch: 82, Train Loss: 0.6339, Train Accuracy: 64.03%, Validation Loss: 0.6329, Validation Accuracy: 64.20%\n",
      "Total Time Passed: 0 hours, 28 minutes, 46.87 seconds\n",
      "Epoch: 83, Train Loss: 0.6335, Train Accuracy: 64.06%, Validation Loss: 0.6325, Validation Accuracy: 64.42%\n",
      "Total Time Passed: 0 hours, 29 minutes, 7.74 seconds\n",
      "Epoch: 84, Train Loss: 0.6331, Train Accuracy: 64.11%, Validation Loss: 0.6317, Validation Accuracy: 64.49%\n",
      "Total Time Passed: 0 hours, 29 minutes, 28.63 seconds\n",
      "Epoch: 85, Train Loss: 0.6328, Train Accuracy: 64.11%, Validation Loss: 0.6318, Validation Accuracy: 64.46%\n",
      "Total Time Passed: 0 hours, 29 minutes, 49.53 seconds\n",
      "Epoch: 86, Train Loss: 0.6325, Train Accuracy: 64.15%, Validation Loss: 0.6311, Validation Accuracy: 64.64%\n",
      "Total Time Passed: 0 hours, 30 minutes, 10.48 seconds\n",
      "Epoch: 87, Train Loss: 0.6321, Train Accuracy: 64.14%, Validation Loss: 0.6328, Validation Accuracy: 64.26%\n",
      "Total Time Passed: 0 hours, 30 minutes, 31.53 seconds\n",
      "Epoch: 88, Train Loss: 0.6317, Train Accuracy: 64.28%, Validation Loss: 0.6322, Validation Accuracy: 64.27%\n",
      "Total Time Passed: 0 hours, 30 minutes, 52.38 seconds\n",
      "Epoch: 89, Train Loss: 0.6315, Train Accuracy: 64.34%, Validation Loss: 0.6301, Validation Accuracy: 64.72%\n",
      "Total Time Passed: 0 hours, 31 minutes, 13.23 seconds\n",
      "Epoch: 90, Train Loss: 0.6311, Train Accuracy: 64.36%, Validation Loss: 0.6320, Validation Accuracy: 64.31%\n",
      "Total Time Passed: 0 hours, 31 minutes, 34.07 seconds\n",
      "Epoch: 91, Train Loss: 0.6308, Train Accuracy: 64.34%, Validation Loss: 0.6295, Validation Accuracy: 64.79%\n",
      "Total Time Passed: 0 hours, 31 minutes, 54.99 seconds\n",
      "Epoch: 92, Train Loss: 0.6306, Train Accuracy: 64.36%, Validation Loss: 0.6292, Validation Accuracy: 64.81%\n",
      "Total Time Passed: 0 hours, 32 minutes, 15.95 seconds\n",
      "Epoch: 93, Train Loss: 0.6302, Train Accuracy: 64.40%, Validation Loss: 0.6289, Validation Accuracy: 64.87%\n",
      "Total Time Passed: 0 hours, 32 minutes, 36.90 seconds\n",
      "Epoch: 94, Train Loss: 0.6298, Train Accuracy: 64.46%, Validation Loss: 0.6311, Validation Accuracy: 64.41%\n",
      "Total Time Passed: 0 hours, 32 minutes, 57.75 seconds\n",
      "Epoch: 95, Train Loss: 0.6295, Train Accuracy: 64.53%, Validation Loss: 0.6283, Validation Accuracy: 64.93%\n",
      "Total Time Passed: 0 hours, 33 minutes, 18.44 seconds\n",
      "Epoch: 96, Train Loss: 0.6292, Train Accuracy: 64.50%, Validation Loss: 0.6338, Validation Accuracy: 64.18%\n",
      "Total Time Passed: 0 hours, 33 minutes, 39.41 seconds\n",
      "Epoch: 97, Train Loss: 0.6288, Train Accuracy: 64.62%, Validation Loss: 0.6292, Validation Accuracy: 64.80%\n",
      "Total Time Passed: 0 hours, 34 minutes, 0.22 seconds\n",
      "Epoch: 98, Train Loss: 0.6285, Train Accuracy: 64.59%, Validation Loss: 0.6280, Validation Accuracy: 64.81%\n",
      "Total Time Passed: 0 hours, 34 minutes, 21.19 seconds\n",
      "Epoch: 99, Train Loss: 0.6284, Train Accuracy: 64.60%, Validation Loss: 0.6274, Validation Accuracy: 65.04%\n",
      "Total Time Passed: 0 hours, 34 minutes, 42.08 seconds\n",
      "Epoch: 100, Train Loss: 0.6279, Train Accuracy: 64.67%, Validation Loss: 0.6269, Validation Accuracy: 65.04%\n",
      "Total Time Passed: 0 hours, 35 minutes, 3.05 seconds\n"
     ]
    }
   ],
   "source": [
    "no_epochs = 100\n",
    "#import ipdb; ipdb.set_trace() # debugging starts here\n",
    "train_accuracies = []\n",
    "validation_accuracies = []\n",
    "init_time = datetime.datetime.now()\n",
    "for epoch in range(no_epochs):\n",
    "    train_loss, train_accuracy = train(grumodel, train_iter, optimizer, loss_fn)\n",
    "    validation_loss, validation_accuracy = evaluate(grumodel, validation_iter, loss_fn)\n",
    "    train_accuracies.append(train_accuracy)\n",
    "    validation_accuracies.append(validation_accuracy)\n",
    "    current_time = datetime.datetime.now()\n",
    "    total_time = (current_time-init_time).total_seconds()\n",
    "    print(f'Epoch: {epoch+1:02}, Train Loss: {train_loss:.4f}, Train Accuracy: {train_accuracy*100:.2f}%, ' +  \n",
    "          f'Validation Loss: {validation_loss:.4f}, Validation Accuracy: {validation_accuracy*100:.2f}%')\n",
    "    print(f'Total Time Passed: {floor(total_time/3600)} hours, {floor(total_time/60)%60} minutes, {total_time%60:.2f} seconds')"
   ]
  },
  {
   "cell_type": "code",
   "execution_count": 41,
   "metadata": {},
   "outputs": [
    {
     "name": "stderr",
     "output_type": "stream",
     "text": [
      "/home/ubuntu/anaconda3/envs/pytorch_p36/lib/python3.6/site-packages/torchtext/data/field.py:321: UserWarning: volatile was removed and now has no effect. Use `with torch.no_grad():` instead.\n",
      "  return Variable(arr, volatile=not train), lengths\n",
      "/home/ubuntu/anaconda3/envs/pytorch_p36/lib/python3.6/site-packages/torchtext/data/field.py:322: UserWarning: volatile was removed and now has no effect. Use `with torch.no_grad():` instead.\n",
      "  return Variable(arr, volatile=not train)\n"
     ]
    },
    {
     "name": "stdout",
     "output_type": "stream",
     "text": [
      "Test Loss: 0.6282, Test Accuracy: 64.62%\n"
     ]
    }
   ],
   "source": [
    "test_loss, test_accuracy = evaluate(grumodel, test_iter, loss_fn)\n",
    "\n",
    "print(f'Test Loss: {test_loss:.4f}, Test Accuracy: {test_accuracy*100:.2f}%')"
   ]
  },
  {
   "cell_type": "code",
   "execution_count": 45,
   "metadata": {},
   "outputs": [
    {
     "data": {
      "image/png": "[encoded data removed]",
      "text/plain": [
       "<Figure size 432x288 with 1 Axes>"
      ]
     },
     "metadata": {},
     "output_type": "display_data"
    }
   ],
   "source": [
    "import matplotlib.pyplot as plt\n",
    "\n",
    "plt.plot(range(1,no_epochs+1),train_accuracies)\n",
    "plt.show()"
   ]
  },
  {
   "cell_type": "code",
   "execution_count": 43,
   "metadata": {},
   "outputs": [],
   "source": [
    "with open('GRUModelGloveTraining.txt', 'w') as f:\n",
    "    for item in train_accuracies:\n",
    "        f.write(\"%s\\n\" % item)"
   ]
  },
  {
   "cell_type": "code",
   "execution_count": 44,
   "metadata": {},
   "outputs": [],
   "source": [
    "with open('GRUModelGloveVal.txt', 'w') as f:\n",
    "    for item in validation_accuracies:\n",
    "        f.write(\"%s\\n\" % item)"
   ]
  },
  {
   "cell_type": "code",
   "execution_count": null,
   "metadata": {},
   "outputs": [],
   "source": []
  }
 ],
 "metadata": {
  "kernelspec": {
   "display_name": "Environment (conda_pytorch_p36)",
   "language": "python",
   "name": "conda_pytorch_p36"
  },
  "language_info": {
   "codemirror_mode": {
    "name": "ipython",
    "version": 3
   },
   "file_extension": ".py",
   "mimetype": "text/x-python",
   "name": "python",
   "nbconvert_exporter": "python",
   "pygments_lexer": "ipython3",
   "version": "3.6.6"
  }
 },
 "nbformat": 4,
 "nbformat_minor": 2
}
