{
 "cells": [
  {
   "cell_type": "code",
   "execution_count": 2,
   "metadata": {},
   "outputs": [],
   "source": [
    "from torchtext import data\n",
    "from scipy.sparse import csr_matrix\n",
    "from scipy.sparse import vstack\n",
    "import numpy as np\n",
    "import random\n",
    "import datetime\n",
    "from math import floor\n",
    "from sklearn.svm import LinearSVC\n",
    "from sklearn.svm import SVC\n",
    "from sklearn.model_selection import GridSearchCV\n",
    "\n",
    "seed = 1"
   ]
  },
  {
   "cell_type": "code",
   "execution_count": 3,
   "metadata": {},
   "outputs": [],
   "source": [
    "blurb_field = data.Field(sequential=True, use_vocab=True, lower=True, tokenize=\"spacy\")\n",
    "state_field = data.LabelField(sequential=False, use_vocab=False, preprocessing=lambda x:1 if x=='successful' else -1) #-1 for svm\n",
    "dataset = data.TabularDataset(path='df_text_eng.csv',format='csv',skip_header=True,fields=[('Unnamed: 0', None),('blurb', blurb_field),('state', state_field)])"
   ]
  },
  {
   "cell_type": "code",
   "execution_count": 4,
   "metadata": {},
   "outputs": [
    {
     "name": "stdout",
     "output_type": "stream",
     "text": [
      "Training Set Size:  150859\n",
      "Test Set Size:  32327\n",
      "Validation Set Size:  32327\n"
     ]
    }
   ],
   "source": [
    "train, test, validation = dataset.split(random_state=random.seed(seed), split_ratio=[70,15,15])\n",
    "print(\"Training Set Size: \", len(train))\n",
    "print(\"Test Set Size: \", len(test))\n",
    "print(\"Validation Set Size: \", len(validation))"
   ]
  },
  {
   "cell_type": "code",
   "execution_count": 5,
   "metadata": {},
   "outputs": [
    {
     "name": "stdout",
     "output_type": "stream",
     "text": [
      "Vocabulary size used:  28760\n"
     ]
    }
   ],
   "source": [
    "#words that appear less than 3 times (2 or less) will be considered unknown words with tag \"<unk>\", \n",
    "#they will have the same word embedding\n",
    "#vocabulary of the training set will only be used to emulate real world situtaions when the test set is unknown\n",
    "blurb_field.build_vocab(train, min_freq=3) #no pads\n",
    "print(\"Vocabulary size used: \",len(blurb_field.vocab))\n",
    "word_to_ix = dict(blurb_field.vocab.stoi)"
   ]
  },
  {
   "cell_type": "code",
   "execution_count": 6,
   "metadata": {},
   "outputs": [],
   "source": [
    "def create_sparse_BOW(dataset, vocabulary_dict):\n",
    "    indptr = [0]\n",
    "    indices = []\n",
    "    data = []\n",
    "    for sentence in dataset:\n",
    "        for term in sentence.blurb:\n",
    "            try:\n",
    "                index = word_to_ix[term]\n",
    "            except:\n",
    "                index = word_to_ix[\"<unk>\"]\n",
    "            indices.append(index)\n",
    "            data.append(1)\n",
    "        indptr.append(len(indices))\n",
    "    sparse_data = csr_matrix((data, indices, indptr), dtype=int, shape=(len(dataset),len(vocabulary_dict)))\n",
    "    y = [dataset[i].state for i in range(len(dataset))]\n",
    "    return sparse_data,np.asarray(y)"
   ]
  },
  {
   "cell_type": "code",
   "execution_count": 7,
   "metadata": {},
   "outputs": [],
   "source": [
    "def sigmoid(x):\n",
    "    return (1 / (1 + np.exp(-x)))"
   ]
  },
  {
   "cell_type": "code",
   "execution_count": 8,
   "metadata": {},
   "outputs": [],
   "source": [
    "def calc_accuracy(predictions, y):\n",
    "    predictions = np.round(sigmoid(predictions))\n",
    "    correct = float(sum(predictions == y))\n",
    "    accuracy = correct/len(predictions)\n",
    "    return accuracy"
   ]
  },
  {
   "cell_type": "code",
   "execution_count": 9,
   "metadata": {},
   "outputs": [],
   "source": [
    "train_BOW, train_y = create_sparse_BOW(train, word_to_ix)\n",
    "#we won't use cross validation to be able to compare this method with the other methods using the same training data\n",
    "validation_BOW, validation_y = create_sparse_BOW(validation, word_to_ix)  \n",
    "test_BOW, test_y = create_sparse_BOW(test, word_to_ix)"
   ]
  },
  {
   "cell_type": "code",
   "execution_count": 270,
   "metadata": {
    "scrolled": true
   },
   "outputs": [
    {
     "name": "stdout",
     "output_type": "stream",
     "text": [
      "Linear SVM:\n",
      "Fitting 3 folds for each of 11 candidates, totalling 33 fits\n",
      "[CV] C=0.015625 ......................................................\n",
      "[CV] ....................................... C=0.015625, total=   0.8s\n"
     ]
    },
    {
     "name": "stderr",
     "output_type": "stream",
     "text": [
      "[Parallel(n_jobs=1)]: Done   1 out of   1 | elapsed:    0.8s remaining:    0.0s\n"
     ]
    },
    {
     "name": "stdout",
     "output_type": "stream",
     "text": [
      "[CV] C=0.015625 ......................................................\n",
      "[CV] ....................................... C=0.015625, total=   0.9s\n",
      "[CV] C=0.015625 ......................................................\n",
      "[CV] ....................................... C=0.015625, total=   0.8s\n",
      "[CV] C=0.0625 ........................................................\n",
      "[CV] ......................................... C=0.0625, total=   1.4s\n",
      "[CV] C=0.0625 ........................................................\n",
      "[CV] ......................................... C=0.0625, total=   1.3s\n",
      "[CV] C=0.0625 ........................................................\n",
      "[CV] ......................................... C=0.0625, total=   1.4s\n",
      "[CV] C=0.25 ..........................................................\n",
      "[CV] ........................................... C=0.25, total=   1.8s\n",
      "[CV] C=0.25 ..........................................................\n",
      "[CV] ........................................... C=0.25, total=   1.7s\n",
      "[CV] C=0.25 ..........................................................\n",
      "[CV] ........................................... C=0.25, total=   1.8s\n",
      "[CV] C=1.0 ...........................................................\n",
      "[CV] ............................................ C=1.0, total=   3.5s\n",
      "[CV] C=1.0 ...........................................................\n",
      "[CV] ............................................ C=1.0, total=   3.9s\n",
      "[CV] C=1.0 ...........................................................\n",
      "[CV] ............................................ C=1.0, total=   3.8s\n",
      "[CV] C=4.0 ...........................................................\n",
      "[CV] ............................................ C=4.0, total=   7.9s\n",
      "[CV] C=4.0 ...........................................................\n",
      "[CV] ............................................ C=4.0, total=   9.1s\n",
      "[CV] C=4.0 ...........................................................\n",
      "[CV] ............................................ C=4.0, total=   8.5s\n",
      "[CV] C=16.0 ..........................................................\n",
      "[CV] ........................................... C=16.0, total=  59.8s\n",
      "[CV] C=16.0 ..........................................................\n",
      "[CV] ........................................... C=16.0, total=  59.9s\n",
      "[CV] C=16.0 ..........................................................\n",
      "[CV] ........................................... C=16.0, total=  47.4s\n",
      "[CV] C=64.0 ..........................................................\n",
      "[CV] ........................................... C=64.0, total=  55.4s\n",
      "[CV] C=64.0 ..........................................................\n",
      "[CV] ........................................... C=64.0, total=  59.2s\n",
      "[CV] C=64.0 ..........................................................\n",
      "[CV] ........................................... C=64.0, total=  49.1s\n",
      "[CV] C=256.0 .........................................................\n",
      "[CV] .......................................... C=256.0, total=  42.9s\n",
      "[CV] C=256.0 .........................................................\n",
      "[CV] .......................................... C=256.0, total=  49.6s\n",
      "[CV] C=256.0 .........................................................\n",
      "[CV] .......................................... C=256.0, total=  41.3s\n",
      "[CV] C=1024.0 ........................................................\n",
      "[CV] ......................................... C=1024.0, total=  42.9s\n",
      "[CV] C=1024.0 ........................................................\n",
      "[CV] ......................................... C=1024.0, total=  42.7s\n",
      "[CV] C=1024.0 ........................................................\n",
      "[CV] ......................................... C=1024.0, total=  37.8s\n",
      "[CV] C=4096.0 ........................................................\n",
      "[CV] ......................................... C=4096.0, total=  46.6s\n",
      "[CV] C=4096.0 ........................................................\n",
      "[CV] ......................................... C=4096.0, total=  42.2s\n",
      "[CV] C=4096.0 ........................................................\n",
      "[CV] ......................................... C=4096.0, total=  40.9s\n",
      "[CV] C=16384.0 .......................................................\n",
      "[CV] ........................................ C=16384.0, total=  44.2s\n",
      "[CV] C=16384.0 .......................................................\n",
      "[CV] ........................................ C=16384.0, total=  41.8s\n",
      "[CV] C=16384.0 .......................................................\n",
      "[CV] ........................................ C=16384.0, total=  38.1s\n"
     ]
    },
    {
     "name": "stderr",
     "output_type": "stream",
     "text": [
      "[Parallel(n_jobs=1)]: Done  33 out of  33 | elapsed: 14.9min finished\n"
     ]
    },
    {
     "name": "stdout",
     "output_type": "stream",
     "text": [
      "Final Validation Accuracy: 39.21%, Chosen C: 0.015625\n",
      "Validation Time: 0 hours, 14 minutes, 55.43 seconds\n"
     ]
    }
   ],
   "source": [
    "#Linear SVM\n",
    "#Choose hyperparameters using Validation set\n",
    "print(\"Linear SVM:\")\n",
    "init_time = datetime.datetime.now()\n",
    "\n",
    "parameters = {'C':[np.power(2.,i) for i in range(-6,16,2)]} #2^-6, 2^-4, ..., 2^14\n",
    "\n",
    "linear_classifier = LinearSVC(dual=False,random_state=seed)\n",
    "\n",
    "clf = GridSearchCV(linear_classifier, parameters, verbose=2)\n",
    "clf.fit(validation_BOW,validation_y)\n",
    "\n",
    "linear_classifier = clf.best_estimator_\n",
    "validation_predictions = linear_classifier.predict(validation_BOW)\n",
    "validation_accuracy = calc_accuracy(validation_predictions,validation_y)\n",
    "\n",
    "current_time = datetime.datetime.now()\n",
    "total_time = (current_time-init_time).total_seconds()\n",
    "\n",
    "print(f'Final Validation Accuracy: {validation_accuracy*100:.2f}%, Chosen C: {linear_classifier.C}')\n",
    "print(f'Validation Time: {floor(total_time/3600)} hours, {floor(total_time/60)%60} minutes, {total_time%60:.2f} seconds')"
   ]
  },
  {
   "cell_type": "code",
   "execution_count": 10,
   "metadata": {},
   "outputs": [],
   "source": [
    "linear_classifier = LinearSVC(dual=False,random_state=seed, C=0.015625)"
   ]
  },
  {
   "cell_type": "code",
   "execution_count": 11,
   "metadata": {},
   "outputs": [
    {
     "name": "stdout",
     "output_type": "stream",
     "text": [
      "Linear SVM:\n",
      "Train Accuracy: 37.11%, Test Accuracy: 34.80%\n",
      "Training Time: 0 hours, 0 minutes, 8.90 seconds\n"
     ]
    }
   ],
   "source": [
    "#Linear SVM\n",
    "#Train using chosen classifier\n",
    "print(\"Linear SVM:\")\n",
    "init_time = datetime.datetime.now()\n",
    "\n",
    "linear_classifier.fit(train_BOW,train_y)\n",
    "\n",
    "train_predictions = linear_classifier.predict(train_BOW)\n",
    "train_accuracy = calc_accuracy(train_predictions,train_y)\n",
    "\n",
    "test_predictions = linear_classifier.predict(test_BOW)\n",
    "test_accuracy = calc_accuracy(test_predictions,test_y)\n",
    "\n",
    "current_time = datetime.datetime.now()\n",
    "total_time = (current_time-init_time).total_seconds()\n",
    "\n",
    "print(f'Train Accuracy: {train_accuracy*100:.2f}%, Test Accuracy: {test_accuracy*100:.2f}%')\n",
    "print(f'Training Time: {floor(total_time/3600)} hours, {floor(total_time/60)%60} minutes, {total_time%60:.2f} seconds')"
   ]
  },
  {
   "cell_type": "code",
   "execution_count": null,
   "metadata": {},
   "outputs": [],
   "source": [
    "#RBF SVM\n",
    "#Choose hyperparameters using Validation set\n",
    "print(\"RBF SVM:\")\n",
    "init_time = datetime.datetime.now()\n",
    "\n",
    "parameters = {'C':[np.power(2.,i) for i in range(-6,16,2)], 'gamma':[np.power(2.,i) for i in range(-17,3,2)]}\n",
    "rbf_classifier = SVC(random_state=seed)\n",
    "\n",
    "clf = GridSearchCV(rbf_classifier, parameters, verbose=2)\n",
    "clf.fit(validation_BOW,validation_y)\n",
    "\n",
    "rbf_classifier = clf.best_estimator_\n",
    "validation_predictions = rbf_classifier.predict(validation_BOW)\n",
    "validation_accuracy = calc_accuracy(validation_predictions,validation_y)\n",
    "\n",
    "current_time = datetime.datetime.now()\n",
    "total_time = (current_time-init_time).total_seconds()\n",
    "\n",
    "print(f'Final Validation Accuracy: {validation_accuracy*100:.2f}%, Chosen C: {classifier.C}')\n",
    "print(f'Validation Time: {floor(total_time/3600)} hours, {floor(total_time/60)%60} minutes, {total_time%60:.2f} seconds')"
   ]
  },
  {
   "cell_type": "code",
   "execution_count": 13,
   "metadata": {},
   "outputs": [
    {
     "name": "stdout",
     "output_type": "stream",
     "text": [
      "RBF SVM:\n",
      "Train Accuracy: 36.56%, Test Accuracy: 37.06%\n",
      "Training Time: 4 hours, 5 minutes, 53.02 seconds\n"
     ]
    }
   ],
   "source": [
    "#RBF SVM\n",
    "#Train using chosen classifier (Default values were used this time due to time limitations)\n",
    "print(\"RBF SVM:\")\n",
    "init_time = datetime.datetime.now()\n",
    "\n",
    "rbf_classifier.fit(train_BOW,train_y)\n",
    "\n",
    "train_predictions = rbf_classifier.predict(train_BOW)\n",
    "train_accuracy = calc_accuracy(train_predictions,train_y)\n",
    "\n",
    "test_predictions = rbf_classifier.predict(test_BOW)\n",
    "test_accuracy = calc_accuracy(test_predictions,test_y)\n",
    "\n",
    "current_time = datetime.datetime.now()\n",
    "total_time = (current_time-init_time).total_seconds()\n",
    "\n",
    "print(f'Train Accuracy: {train_accuracy*100:.2f}%, Test Accuracy: {test_accuracy*100:.2f}%')\n",
    "print(f'Training Time: {floor(total_time/3600)} hours, {floor(total_time/60)%60} minutes, {total_time%60:.2f} seconds')"
   ]
  },
  {
   "cell_type": "code",
   "execution_count": null,
   "metadata": {},
   "outputs": [],
   "source": []
  }
 ],
 "metadata": {
  "kernelspec": {
   "display_name": "Python 3",
   "language": "python",
   "name": "python3"
  },
  "language_info": {
   "codemirror_mode": {
    "name": "ipython",
    "version": 3
   },
   "file_extension": ".py",
   "mimetype": "text/x-python",
   "name": "python",
   "nbconvert_exporter": "python",
   "pygments_lexer": "ipython3",
   "version": "3.6.5"
  }
 },
 "nbformat": 4,
 "nbformat_minor": 2
}
